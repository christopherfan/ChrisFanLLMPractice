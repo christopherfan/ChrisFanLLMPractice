{
  "nbformat": 4,
  "nbformat_minor": 0,
  "metadata": {
    "colab": {
      "provenance": [],
      "authorship_tag": "ABX9TyOUK/fmlTEqWAZld4W8sWyq",
      "include_colab_link": true
    },
    "kernelspec": {
      "name": "python3",
      "display_name": "Python 3"
    },
    "language_info": {
      "name": "python"
    }
  },
  "cells": [
    {
      "cell_type": "markdown",
      "metadata": {
        "id": "view-in-github",
        "colab_type": "text"
      },
      "source": [
        "<a href=\"https://colab.research.google.com/github/christopherfan/ChrisFanLLMPractice/blob/main/LangchainCSV.ipynb\" target=\"_parent\"><img src=\"https://colab.research.google.com/assets/colab-badge.svg\" alt=\"Open In Colab\"/></a>"
      ]
    },
    {
      "cell_type": "markdown",
      "source": [
        "https://langchain.readthedocs.io/en/latest/modules/agents/agent_toolkits/csv.html"
      ],
      "metadata": {
        "id": "gHd2TMf68r-8"
      }
    },
    {
      "cell_type": "code",
      "execution_count": null,
      "metadata": {
        "id": "XqSPAD2e8m-D"
      },
      "outputs": [],
      "source": [
        "!pip install openai\n"
      ]
    },
    {
      "cell_type": "code",
      "source": [
        "!pip install langchain==0.0.118\n",
        "!pip install unstructured"
      ],
      "metadata": {
        "id": "WpEPL0Tm9KXl"
      },
      "execution_count": null,
      "outputs": []
    },
    {
      "cell_type": "code",
      "source": [
        "!pip install pymupdf"
      ],
      "metadata": {
        "colab": {
          "base_uri": "https://localhost:8080/"
        },
        "id": "ul7ZiNODbq0A",
        "outputId": "90c610fd-8d10-4272-ada5-a2f54efdb43f"
      },
      "execution_count": null,
      "outputs": [
        {
          "output_type": "stream",
          "name": "stdout",
          "text": [
            "Looking in indexes: https://pypi.org/simple, https://us-python.pkg.dev/colab-wheels/public/simple/\n",
            "Collecting pymupdf\n",
            "  Downloading PyMuPDF-1.21.1-cp39-cp39-manylinux_2_17_x86_64.manylinux2014_x86_64.whl (14.0 MB)\n",
            "\u001b[2K     \u001b[90m━━━━━━━━━━━━━━━━━━━━━━━━━━━━━━━━━━━━━━━━\u001b[0m \u001b[32m14.0/14.0 MB\u001b[0m \u001b[31m30.2 MB/s\u001b[0m eta \u001b[36m0:00:00\u001b[0m\n",
            "\u001b[?25hInstalling collected packages: pymupdf\n",
            "Successfully installed pymupdf-1.21.1\n"
          ]
        }
      ]
    },
    {
      "cell_type": "code",
      "source": [
        "from langchain.agents import create_csv_agent"
      ],
      "metadata": {
        "id": "bH5OXNPg9PIT"
      },
      "execution_count": null,
      "outputs": []
    },
    {
      "cell_type": "code",
      "source": [
        "from langchain.llms import OpenAI"
      ],
      "metadata": {
        "id": "1vcWghTP9S70"
      },
      "execution_count": null,
      "outputs": []
    },
    {
      "cell_type": "code",
      "source": [
        "import os\n",
        "os.environ[\"OPENAI_API_KEY\"] = \"ADDKEY\""
      ],
      "metadata": {
        "id": "x4RuJyB_9hQn"
      },
      "execution_count": null,
      "outputs": []
    },
    {
      "cell_type": "code",
      "source": [
        "agent = create_csv_agent(OpenAI(temperature=0), '/content/Referral_Subset.csv', verbose=True)"
      ],
      "metadata": {
        "id": "8fdfZgUG9suf"
      },
      "execution_count": null,
      "outputs": []
    },
    {
      "cell_type": "code",
      "source": [
        "agent.run(\"What is the most popular program name?\")"
      ],
      "metadata": {
        "colab": {
          "base_uri": "https://localhost:8080/",
          "height": 249
        },
        "id": "sF0fo4t191w8",
        "outputId": "ca36699b-e385-4d09-a4b3-fd0a1888c791"
      },
      "execution_count": null,
      "outputs": [
        {
          "output_type": "stream",
          "name": "stdout",
          "text": [
            "\n",
            "\n",
            "\u001b[1m> Entering new AgentExecutor chain...\u001b[0m\n",
            "\u001b[32;1m\u001b[1;3mThought: I need to find the program name that appears the most in the dataframe.\n",
            "Action: python_repl_ast\n",
            "Action Input: df['program_name'].mode()\u001b[0m\n",
            "Observation: \u001b[36;1m\u001b[1;3m0    Financial Assistance\n",
            "Name: program_name, dtype: object\u001b[0m\n",
            "Thought:\u001b[32;1m\u001b[1;3m I now know the final answer\n",
            "Final Answer: Financial Assistance\u001b[0m\n",
            "\n",
            "\u001b[1m> Finished chain.\u001b[0m\n"
          ]
        },
        {
          "output_type": "execute_result",
          "data": {
            "text/plain": [
              "'Financial Assistance'"
            ],
            "application/vnd.google.colaboratory.intrinsic+json": {
              "type": "string"
            }
          },
          "metadata": {},
          "execution_count": 10
        }
      ]
    },
    {
      "cell_type": "code",
      "source": [
        "agent.run(\"What is the most popular provider type?\")"
      ],
      "metadata": {
        "colab": {
          "base_uri": "https://localhost:8080/",
          "height": 409
        },
        "id": "l6jXXtvT95tk",
        "outputId": "02691146-51e1-488d-d793-cc4b7e1c2941"
      },
      "execution_count": null,
      "outputs": [
        {
          "output_type": "stream",
          "name": "stdout",
          "text": [
            "\n",
            "\n",
            "\u001b[1m> Entering new AgentExecutor chain...\u001b[0m\n",
            "\u001b[32;1m\u001b[1;3mThought: I need to find out which provider type appears the most in the dataframe.\n",
            "Action: python_repl_ast\n",
            "Action Input: df['provider_type'].value_counts()\u001b[0m\n",
            "Observation: \u001b[36;1m\u001b[1;3mcharity                 671\n",
            "faith_based             133\n",
            "business                 76\n",
            "county_gov               33\n",
            "city_gov                 28\n",
            "state_gov                27\n",
            "federal_gov              12\n",
            "health_facility          10\n",
            "regional_gov              8\n",
            "educational_facility      2\n",
            "Name: provider_type, dtype: int64\u001b[0m\n",
            "Thought:\u001b[32;1m\u001b[1;3m The most popular provider type is charity.\n",
            "Final Answer: The most popular provider type is charity.\u001b[0m\n",
            "\n",
            "\u001b[1m> Finished chain.\u001b[0m\n"
          ]
        },
        {
          "output_type": "execute_result",
          "data": {
            "text/plain": [
              "'The most popular provider type is charity.'"
            ],
            "application/vnd.google.colaboratory.intrinsic+json": {
              "type": "string"
            }
          },
          "metadata": {},
          "execution_count": 11
        }
      ]
    },
    {
      "cell_type": "code",
      "source": [
        "ng"
      ],
      "metadata": {
        "id": "89P87GgByuuB"
      },
      "execution_count": null,
      "outputs": []
    },
    {
      "cell_type": "code",
      "source": [
        "agent.run(\"What are the top 3 providers\")"
      ],
      "metadata": {
        "colab": {
          "base_uri": "https://localhost:8080/",
          "height": 285
        },
        "id": "L4x1bCWN-x9T",
        "outputId": "2c24a09c-b532-448d-fe76-32bd0b3d2b1f"
      },
      "execution_count": null,
      "outputs": [
        {
          "output_type": "stream",
          "name": "stdout",
          "text": [
            "\n",
            "\n",
            "\u001b[1m> Entering new AgentExecutor chain...\u001b[0m\n",
            "\u001b[32;1m\u001b[1;3mThought: I need to find the top 3 providers\n",
            "Action: python_repl_ast\n",
            "Action Input: df['provider_name'].value_counts().head(3)\u001b[0m\n",
            "Observation: \u001b[36;1m\u001b[1;3mMusiCares                            33\n",
            "Dramatists Guild Foundation (DGF)    26\n",
            "Mercy House                          21\n",
            "Name: provider_name, dtype: int64\u001b[0m\n",
            "Thought:\u001b[32;1m\u001b[1;3m I now know the top 3 providers\n",
            "Final Answer: MusiCares, Dramatists Guild Foundation (DGF), Mercy House\u001b[0m\n",
            "\n",
            "\u001b[1m> Finished chain.\u001b[0m\n"
          ]
        },
        {
          "output_type": "execute_result",
          "data": {
            "text/plain": [
              "'MusiCares, Dramatists Guild Foundation (DGF), Mercy House'"
            ],
            "application/vnd.google.colaboratory.intrinsic+json": {
              "type": "string"
            }
          },
          "metadata": {},
          "execution_count": 13
        }
      ]
    },
    {
      "cell_type": "markdown",
      "source": [
        "Try out URL Parser\n",
        "https://langchain.readthedocs.io/en/latest/modules/document_loaders/examples/url.html"
      ],
      "metadata": {
        "id": "7lP5tFuj3t0D"
      }
    },
    {
      "cell_type": "code",
      "source": [
        "from langchain.document_loaders import UnstructuredURLLoader\n"
      ],
      "metadata": {
        "id": "AN8-ZKeA3sL2"
      },
      "execution_count": null,
      "outputs": []
    },
    {
      "cell_type": "code",
      "source": [
        "urls = [\n",
        "    \"https://www.findhelp.org/search/text?term=tax+assistance&postal=94549&language=en\"\n",
        "]"
      ],
      "metadata": {
        "id": "-zrETURj38fL"
      },
      "execution_count": null,
      "outputs": []
    },
    {
      "cell_type": "code",
      "source": [
        "loader = UnstructuredURLLoader(urls=urls)"
      ],
      "metadata": {
        "id": "g5NNdryC4BWu"
      },
      "execution_count": null,
      "outputs": []
    },
    {
      "cell_type": "code",
      "source": [
        "data = loader.load()\n",
        "data"
      ],
      "metadata": {
        "id": "8yhiSOAFZHKW"
      },
      "execution_count": null,
      "outputs": []
    },
    {
      "cell_type": "code",
      "source": [
        "from langchain.document_loaders import UnstructuredHTMLLoader\n",
        "\n"
      ],
      "metadata": {
        "id": "ViVvWxLi5RyC"
      },
      "execution_count": null,
      "outputs": []
    },
    {
      "cell_type": "code",
      "source": [
        "loader = UnstructuredHTMLLoader(\"/content/search_94549.html\")"
      ],
      "metadata": {
        "id": "eKmGEGOB5S5n"
      },
      "execution_count": null,
      "outputs": []
    },
    {
      "cell_type": "code",
      "source": [
        "loader.load()\n",
        "data"
      ],
      "metadata": {
        "colab": {
          "base_uri": "https://localhost:8080/"
        },
        "id": "bUZRtMNuZ2jA",
        "outputId": "868e7e79-c723-4daf-9265-4ac661f9dc25"
      },
      "execution_count": null,
      "outputs": [
        {
          "output_type": "execute_result",
          "data": {
            "text/plain": [
              "[Document(page_content='Sorry, something about your browser or browsing activity made us\\n                think you were a robot.\\n\\nTo regain access, please make sure both cookies and JavaScript are\\n                    enabled in your web browser, then reload the page. Our site needs\\n                    them to function!\\n\\nIf you need help, contact us at blocked@findhelp.com\\n\\nNot a robot? Let us know to keep searching:', lookup_str='', metadata={'source': 'https://www.findhelp.org/search/text?term=tax+assistance&postal=94549&language=en'}, lookup_index=0)]"
            ]
          },
          "metadata": {},
          "execution_count": 10
        }
      ]
    },
    {
      "cell_type": "code",
      "source": [
        "from langchain.document_loaders import UnstructuredPDFLoader\n",
        "from langchain.document_loaders import PDFMinerLoader\n",
        "from langchain.document_loaders import PyMuPDFLoader\n"
      ],
      "metadata": {
        "id": "DnvA_3PIbMUg"
      },
      "execution_count": null,
      "outputs": []
    },
    {
      "cell_type": "code",
      "source": [
        "loader = PyMuPDFLoader(\"/content/findhelp_94549.pdf\")\n"
      ],
      "metadata": {
        "id": "CsqE0oH4bNZa"
      },
      "execution_count": null,
      "outputs": []
    },
    {
      "cell_type": "code",
      "source": [
        "data = loader.load()\n"
      ],
      "metadata": {
        "colab": {
          "base_uri": "https://localhost:8080/"
        },
        "id": "Lfq0M2UVbYnx",
        "outputId": "8fb8842c-593d-414a-faa1-6da347666a92"
      },
      "execution_count": null,
      "outputs": [
        {
          "output_type": "execute_result",
          "data": {
            "text/plain": [
              "[Document(page_content='3/23/23, 7:20 PM\\nfood pantry programs in Lafayette, ca | ﬁndhelp.org\\nhttps://www.ﬁndhelp.org/search/text?term=food+pantry&postal=94549&language=en\\n1/7\\nlafayette, ca (94549)\\n/  showing results for search: food pantry \\n 1 - 10 of 19\\n\\uf054 (/SEARCH/TEXT?TERM=FOOD+PANTRY&POSTAL=94549&LANGUAGE=EN&CURSOR=10&LIMIT=10)\\n\\uf053\\nCLOSEST\\n\\uf017  Program Filters\\n\\uf007  Personal Filters\\n\\uf14e  Income Eligibility\\nNotice out-of-date information or see a program you work for? Click \\uf040 Suggest to share an update or claim your\\nprogram listing to get access to free tools and data.\\nSh\\npro\\ntha\\nser\\n94\\nMap data ©2023 Google Report a map error (https://www.google.com/maps/@37.9390826,-122.0512348,11z/data=!10m1!1e1!12b1?source=apiv3&rapsrc=apiv3)\\n(https://maps.google.com/maps?ll=37.939083,-122.051235&z=11&t=m&hl=en-US&gl=US&mapclient=apiv3)\\nBest Matches\\nThese programs contain all of the word(s) you searched in the provider name, program name, or description and\\nare likely to be the most relevant matches.\\nThe food distribution program is the heart of Monument Crisis\\nCenter and is an essential part of the mission; providing stability…\\nFood Distribution Program (/monument-crisis-center--concord-ca--food-\\ndistribution-program/6122987715559424?postal=94549)\\nby  Monument Crisis Center\\n\\uf058  Reviewed on: 03/19/2023\\nNext Steps:\\nCall 925-825-7751 or contact or go to the\\nnearest location .\\nRELEVANCE\\n', lookup_str='', metadata={'file_path': '/content/findhelp_94549.pdf', 'page_number': 1, 'total_pages': 7, 'format': 'PDF 1.4', 'title': '', 'author': '', 'subject': '', 'keywords': '', 'creator': 'Mozilla/5.0 (Macintosh; Intel Mac OS X 10_15_7) AppleWebKit/537.36 (KHTML, like Gecko) Chrome/111.0.0.0 Safari/537.36', 'producer': 'Skia/PDF m111', 'creationDate': \"D:20230324022003+00'00'\", 'modDate': \"D:20230324022003+00'00'\", 'trapped': ''}, lookup_index=0),\n",
              " Document(page_content='3/23/23, 7:20 PM\\nfood pantry programs in Lafayette, ca | ﬁndhelp.org\\nhttps://www.ﬁndhelp.org/search/text?term=food+pantry&postal=94549&language=en\\n2/7\\n\\uf02b Main Services:\\n\\uf007 Serving:\\nfood pantry (/food/food-pantry--lafayette-ca?postal=94549)\\nanyone in need (/search/text?term=anyone in\\nneed&postal=94549),\\nall ages (/search/text?term=all ages&postal=94549),\\nindividuals (/search/text?term=individuals&postal=94549),\\nfamilies (/search/text?term=families&postal=94549),\\nlow-income (/search/text?term=low-income&postal=94549),\\nin crisis (/search/text?term=in crisis&postal=94549)\\n\\uf041  6.83 miles ( serves your local area)\\n1990 Market Street, Concord, CA 94520\\n(https://www.google.com/maps/?\\nq=1990+Market+Street,+Concord,+CA+94520/)\\n\\uf017 Closed Today See open hours \\uf078\\nMORE INFO \\uf078\\n \\n\\uf1d8\\nSHARE\\n \\n\\uf03a\\nNOTES\\n \\n\\uf040\\nSUGGEST\\n \\n\\uf061 SEE NEXT STEPS\\nThe Hillcrest Church Community Food Room is a food pantry\\nproviding a 3-day supply of free food to people in need in…\\n\\uf02b Main Services:\\n\\uf007 Serving:\\nFood Room (/hillcrest-united-church-of-christ--pleasant-hill-ca--food-\\nroom/6539119308570624?postal=94549)\\nby  Hillcrest United Church of Christ\\n\\uf058  Reviewed on: 03/19/2023\\nfood pantry (/food/food-pantry--lafayette-ca?postal=94549)\\nanyone in need (/search/text?term=anyone in\\nneed&postal=94549),\\nall ages (/search/text?term=all ages&postal=94549),\\nveterans (/search/text?term=veterans&postal=94549),\\nstudents (/search/text?term=students&postal=94549),\\nindividuals (/search/text?term=individuals&postal=94549),\\nfamilies (/search/text?term=families&postal=94549)\\nNext Steps:\\nContact or go to the nearest location .\\n\\uf041  4.34 miles ( serves your local area)\\n404 Gregory Lane, Pleasant Hill, CA 94523\\n(https://www.google.com/maps/?\\nq=404+Gregory+Lane,+Pleasant+Hill,+CA+94523/)\\n\\uf017 Closed Today See open hours \\uf078\\nMORE INFO \\uf078\\n \\n\\uf1d8\\nSHARE\\n \\n\\uf03a\\nNOTES\\n \\n\\uf040\\nSUGGEST\\n \\n\\uf061 SEE NEXT STEPS\\nCoviaʼs Market Day program provides communities with fresh\\nproduce at a�ordable prices. Come and shop for beautiful,…\\nMarket Day (/front-porch--walnut-creek-ca--market-\\nday/5709420958318592?postal=94549)\\nby  Front Porch\\n\\uf058  Reviewed on: 03/19/2023\\n\\uf00c\\nNext Steps:\\nContact or go to the nearest location .\\n', lookup_str='', metadata={'file_path': '/content/findhelp_94549.pdf', 'page_number': 2, 'total_pages': 7, 'format': 'PDF 1.4', 'title': '', 'author': '', 'subject': '', 'keywords': '', 'creator': 'Mozilla/5.0 (Macintosh; Intel Mac OS X 10_15_7) AppleWebKit/537.36 (KHTML, like Gecko) Chrome/111.0.0.0 Safari/537.36', 'producer': 'Skia/PDF m111', 'creationDate': \"D:20230324022003+00'00'\", 'modDate': \"D:20230324022003+00'00'\", 'trapped': ''}, lookup_index=0),\n",
              " Document(page_content='3/23/23, 7:20 PM\\nfood pantry programs in Lafayette, ca | ﬁndhelp.org\\nhttps://www.ﬁndhelp.org/search/text?term=food+pantry&postal=94549&language=en\\n3/7\\n\\uf02b Main Services:\\n\\uf007 Serving:\\nfood pantry (/food/food-pantry--lafayette-ca?postal=94549)\\nseniors (/search/text?term=seniors&postal=94549)\\n\\uf041  2.65 miles ( serves your local area)\\n1375 Civic Drive, Walnut Creek, CA 94596\\n(https://www.google.com/maps/?\\nq=1375+Civic+Drive,+Walnut+Creek,+CA+94596/)\\nNot available closed\\nMORE INFO \\uf078\\n \\n\\uf1d8\\nSHARE\\n \\n\\uf03a\\nNOTES\\n \\n\\uf040\\nSUGGEST\\n \\n\\uf075 CONTACT HERE\\nThe food pantry provides quality food items to households\\nexperiencing food insecurity. This program supplies critical…\\n\\uf02b Main Services:\\n\\uf007 Serving:\\nFood Pantry (/society-of-st.-vincent-de-paul-of-contra-costa-county-\\n%2528svdp%2529--pittsburg-ca--food-pantry/5770056647049216?\\npostal=94549)\\nby  Society of St. Vincent de Paul of Contra Costa County (SVdP)\\n\\uf058  Reviewed on: 03/19/2023\\n\\uf00c\\nfood pantry (/food/food-pantry--lafayette-ca?postal=94549)\\nanyone in need (/search/text?term=anyone in\\nneed&postal=94549),\\nall ages (/search/text?term=all ages&postal=94549),\\nindividuals (/search/text?term=individuals&postal=94549),\\nfamilies (/search/text?term=families&postal=94549)\\nNext Steps:\\nContact or go to the nearest location or call 925-\\n439-5060 .\\n\\uf041  15.46 miles ( serves your local area)\\n2210 Gladstone Drive, Pittsburg, CA 94565\\n(https://www.google.com/maps/?\\nq=2210+Gladstone+Drive,+Pittsburg,+CA+94565/)\\n\\uf017 Closed Now : See open hours \\uf078\\nMORE INFO \\uf078\\n \\n\\uf1d8\\nSHARE\\n \\n\\uf03a\\nNOTES\\n \\n\\uf040\\nSUGGEST\\n \\n\\uf061 SEE NEXT STEPS\\nSHARE Food Pantry provides free food to feed families and\\nindividuals in need. We supply groceries for residents that …\\n\\uf02b Main Services:\\n\\uf007 Serving:\\nSHARE Food Pantry (/disciples-of-christ-first-christian-church--concord-ca--\\nshare-food-pantry/5747291764031488?postal=94549)\\nby  Disciples of Christ First Christian Church\\n\\uf058  Reviewed on: 03/19/2023\\nfood pantry (/food/food-pantry--lafayette-ca?postal=94549)\\nanyone in need (/search/text?term=anyone in\\nneed&postal=94549),\\nall ages (/search/text?term=all ages&postal=94549)\\nNext Steps:\\nContact or go to the nearest location or call 925-\\n827-4273 .\\n\\uf041  7.76 miles ( serves your local area)\\n3039 Willow Pass Road, Concord, CA 94519\\n(https://www.google.com/maps/?\\nq=3039+Willow+Pass+Road,+Concord,+CA+94519/)\\n', lookup_str='', metadata={'file_path': '/content/findhelp_94549.pdf', 'page_number': 3, 'total_pages': 7, 'format': 'PDF 1.4', 'title': '', 'author': '', 'subject': '', 'keywords': '', 'creator': 'Mozilla/5.0 (Macintosh; Intel Mac OS X 10_15_7) AppleWebKit/537.36 (KHTML, like Gecko) Chrome/111.0.0.0 Safari/537.36', 'producer': 'Skia/PDF m111', 'creationDate': \"D:20230324022003+00'00'\", 'modDate': \"D:20230324022003+00'00'\", 'trapped': ''}, lookup_index=0),\n",
              " Document(page_content='3/23/23, 7:20 PM\\nfood pantry programs in Lafayette, ca | ﬁndhelp.org\\nhttps://www.ﬁndhelp.org/search/text?term=food+pantry&postal=94549&language=en\\n4/7\\n\\uf017 Closed Today See open hours \\uf078\\nMORE INFO \\uf078\\n \\n\\uf1d8\\nSHARE\\n \\n\\uf03a\\nNOTES\\n \\n\\uf040\\nSUGGEST\\n \\n\\uf061 SEE NEXT STEPS\\nThe NorthCreek Food Pantry provides food donated\\nby the NorthCreek church body to those in need…\\n\\uf02b Main Services:\\n\\uf007 Serving:\\nFood Pantry (/northcreek-church--walnut-creek-ca--food-\\npantry/5722216284553216?postal=94549)\\nby  NorthCreek Church\\n\\uf058  Reviewed on: 03/19/2023\\nfood pantry (/food/food-pantry--lafayette-ca?\\npostal=94549)\\nall ages (/search/text?term=all ages&postal=94549),\\nindividuals (/search/text?\\nterm=individuals&postal=94549),\\nfamilies (/search/text?term=families&postal=94549)\\nNext Steps:\\nContact or go to the nearest location or call 925-210-9036 .\\n\\uf041  4.79 miles ( serves your local area)\\n2303 Ygnacio Valley Road, Walnut Creek, CA 94598\\n(https://www.google.com/maps/?\\nq=2303+Ygnacio+Valley+Road,+Walnut+Creek,+CA+94598/)\\n\\uf017 Closed Today See open hours \\uf078\\nMORE INFO \\uf078\\n \\n\\uf1d8\\nSHARE\\n \\n\\uf03a\\nNOTES\\n \\n\\uf040\\nSUGGEST\\n \\n\\uf061 SEE NEXT STEPS\\nCity of Hercules o�ers the Community Produce Program which\\ndistributes fresh produce to anyone in the community who meets th…\\n\\uf02b Main Services:\\n\\uf007 Serving:\\nCommunity Produce Program (/city-of-hercules--hercules-ca--community-\\nproduce-program/6197673581084672?postal=94549)\\nby  City of Hercules\\n\\uf058  Reviewed on: 03/19/2023\\nfood pantry (/food/food-pantry--lafayette-ca?postal=94549)\\nanyone in need (/search/text?term=anyone in need&postal=94549),\\nall ages (/search/text?term=all ages&postal=94549),\\nindividuals (/search/text?term=individuals&postal=94549),\\nfamilies (/search/text?term=families&postal=94549)\\nNext Steps:\\nContact or go to the nearest location or\\ncall 510-799-8200 .\\n\\uf041  12.04 miles ( serves your local area)\\n111 Civic Drive, Hercules, CA 94547\\n(https://www.google.com/maps/?\\nq=111+Civic+Drive,+Hercules,+CA+94547/)\\n\\uf017 Closed Today See open hours \\uf078\\nMORE INFO \\uf078\\n \\n\\uf1d8\\nSHARE\\n \\n\\uf03a\\nNOTES\\n \\n\\uf040\\nSUGGEST\\n \\n\\uf061 SEE NEXT STEPS\\n', lookup_str='', metadata={'file_path': '/content/findhelp_94549.pdf', 'page_number': 4, 'total_pages': 7, 'format': 'PDF 1.4', 'title': '', 'author': '', 'subject': '', 'keywords': '', 'creator': 'Mozilla/5.0 (Macintosh; Intel Mac OS X 10_15_7) AppleWebKit/537.36 (KHTML, like Gecko) Chrome/111.0.0.0 Safari/537.36', 'producer': 'Skia/PDF m111', 'creationDate': \"D:20230324022003+00'00'\", 'modDate': \"D:20230324022003+00'00'\", 'trapped': ''}, lookup_index=0),\n",
              " Document(page_content='3/23/23, 7:20 PM\\nfood pantry programs in Lafayette, ca | ﬁndhelp.org\\nhttps://www.ﬁndhelp.org/search/text?term=food+pantry&postal=94549&language=en\\n5/7\\nThe Senior Moments program provides seniors with groceries, a\\nhealthy lunch, time to socialize, blood pressure screenings and…\\n\\uf02b Main Services:\\n\\uf02b Other Services:\\n\\uf007 Serving:\\nSenior Moments (/monument-crisis-center--concord-ca--senior-\\nmoments/5297166234943488?postal=94549)\\nby  Monument Crisis Center\\n\\uf058  Reviewed on: 03/19/2023\\nfood pantry (/food/food-pantry--lafayette-ca?postal=94549),\\nmeals (/food/meals--lafayette-ca?postal=94549)\\ncheckup & test (/health/checkup-%26-test--lafayette-ca?postal=94549),\\ndisease screening (/health/disease-screening--lafayette-ca?postal=94549),\\ncommunity support services (/care/community-support-services--lafayette-\\nca?postal=94549),\\nrecreation (/care/recreation--lafayette-ca?postal=94549)\\nseniors (/search/text?term=seniors&postal=94549)\\nNext Steps:\\nContact or go to the nearest location or call\\n925-825-7751 .\\n\\uf041  6.83 miles ( serves your local area)\\n1990 Market Street, Concord, CA 94520\\n(https://www.google.com/maps/?\\nq=1990+Market+Street,+Concord,+CA+94520/)\\n\\uf017 Closed Today See open hours \\uf078\\nMORE INFO \\uf078\\n \\n\\uf1d8\\nSHARE\\n \\n\\uf03a\\nNOTES\\n \\n\\uf040\\nSUGGEST\\n \\n\\uf061 SEE NEXT STEPS\\nThe RCCʼs food pantry provides food assistance for low-\\nincome qualifying members within the community of Contr…\\n\\uf02b Main Services:\\n\\uf007 Serving:\\nFood Pantry (/rainbow-community-center-of-contra-costa-county-\\n%2528rcc%2529--concord-ca--food-pantry/6260175246721024?\\npostal=94549)\\nby  Rainbow Community Center of Contra Costa County (RCC)\\n\\uf058  Reviewed on: 03/19/2023\\nfood pantry (/food/food-pantry--lafayette-ca?postal=94549)\\nall ages (/search/text?term=all ages&postal=94549),\\nseniors (/search/text?term=seniors&postal=94549),\\nlow-income (/search/text?term=low-income&postal=94549),\\nlgbtqia+ (/search/text?term=lgbtqia+&postal=94549)\\nNext Steps:\\nCall 925-692-0090 ext. 315 .\\n\\uf041  7.15 miles ( serves your local area)\\n2118 Willow Pass Road, Concord, CA 94520\\n(https://www.google.com/maps/?\\nq=2118+Willow+Pass+Road,+Concord,+CA+94520/)\\n\\uf017 Closed Now : See open hours \\uf078\\nMORE INFO \\uf078\\n \\n\\uf1d8\\nSHARE\\n \\n\\uf03a\\nNOTES\\n \\n\\uf040\\nSUGGEST\\n \\n\\uf061 SEE NEXT STEPS\\n', lookup_str='', metadata={'file_path': '/content/findhelp_94549.pdf', 'page_number': 5, 'total_pages': 7, 'format': 'PDF 1.4', 'title': '', 'author': '', 'subject': '', 'keywords': '', 'creator': 'Mozilla/5.0 (Macintosh; Intel Mac OS X 10_15_7) AppleWebKit/537.36 (KHTML, like Gecko) Chrome/111.0.0.0 Safari/537.36', 'producer': 'Skia/PDF m111', 'creationDate': \"D:20230324022003+00'00'\", 'modDate': \"D:20230324022003+00'00'\", 'trapped': ''}, lookup_index=0),\n",
              " Document(page_content='3/23/23, 7:20 PM\\nfood pantry programs in Lafayette, ca | ﬁndhelp.org\\nhttps://www.ﬁndhelp.org/search/text?term=food+pantry&postal=94549&language=en\\n6/7\\nThis curated database of resources is provided by findhelp, a Public Benefit Corporation.\\nOur Care Ministries o�er a variety of resources to provide for the\\nbasic needs of our community. Services include:- Financial Peac…\\n\\uf02b Main Services:\\n\\uf007 Serving:\\nCare Ministries (/hilltop-community-church--richmond-ca--care-\\nministries/5200061128245248?postal=94549)\\nby  Hilltop Community Church\\n\\uf058  Reviewed on: 03/19/2023\\nfood pantry (/food/food-pantry--lafayette-ca?postal=94549),\\nclothing (/goods/clothing--lafayette-ca?postal=94549),\\nfamily counseling (/health/family-counseling--lafayette-ca?\\npostal=94549),\\nindividual counseling (/health/individual-counseling--lafayette-\\nca?postal=94549),\\nfinancial education (/money/financial-education--lafayette-ca?\\npostal=94549),\\nmentoring (/care/mentoring--lafayette-ca?postal=94549),\\nhelp find work (/work/help-find-work--lafayette-ca?\\npostal=94549)\\nanyone in need (/search/text?term=anyone in\\nneed&postal=94549),\\nall ages (/search/text?term=all ages&postal=94549),\\nunemployed (/search/text?term=unemployed&postal=94549),\\nindividuals (/search/text?term=individuals&postal=94549),\\nfamilies (/search/text?term=families&postal=94549),\\nlow-income (/search/text?term=low-income&postal=94549)\\nNext Steps:\\nCall 510-223-2431 .\\n\\uf041  13.41 miles ( serves your local area)\\n3118 Shane Drive, Richmond, CA 94806\\n(https://www.google.com/maps/?\\nq=3118+Shane+Drive,+Richmond,+CA+94806/)\\n\\uf017 Closed Now : See open hours \\uf078\\nMORE INFO \\uf078\\n \\n\\uf1d8\\nSHARE\\n \\n\\uf03a\\nNOTES\\n \\n\\uf040\\nSUGGEST\\n \\n\\uf061 SEE NEXT STEPS\\n 1 - 10 of 19\\n\\uf054 (/SEARCH/TEXT?TERM=FOOD+PANTRY&POSTAL=94549&LANGUAGE=EN&CURSOR=10&LIMIT=10)\\n\\uf053\\n', lookup_str='', metadata={'file_path': '/content/findhelp_94549.pdf', 'page_number': 6, 'total_pages': 7, 'format': 'PDF 1.4', 'title': '', 'author': '', 'subject': '', 'keywords': '', 'creator': 'Mozilla/5.0 (Macintosh; Intel Mac OS X 10_15_7) AppleWebKit/537.36 (KHTML, like Gecko) Chrome/111.0.0.0 Safari/537.36', 'producer': 'Skia/PDF m111', 'creationDate': \"D:20230324022003+00'00'\", 'modDate': \"D:20230324022003+00'00'\", 'trapped': ''}, lookup_index=0),\n",
              " Document(page_content='3/23/23, 7:20 PM\\nfood pantry programs in Lafayette, ca | ﬁndhelp.org\\nhttps://www.ﬁndhelp.org/search/text?term=food+pantry&postal=94549&language=en\\n7/7\\n', lookup_str='', metadata={'file_path': '/content/findhelp_94549.pdf', 'page_number': 7, 'total_pages': 7, 'format': 'PDF 1.4', 'title': '', 'author': '', 'subject': '', 'keywords': '', 'creator': 'Mozilla/5.0 (Macintosh; Intel Mac OS X 10_15_7) AppleWebKit/537.36 (KHTML, like Gecko) Chrome/111.0.0.0 Safari/537.36', 'producer': 'Skia/PDF m111', 'creationDate': \"D:20230324022003+00'00'\", 'modDate': \"D:20230324022003+00'00'\", 'trapped': ''}, lookup_index=0)]"
            ]
          },
          "metadata": {},
          "execution_count": 21
        }
      ]
    }
  ]
}