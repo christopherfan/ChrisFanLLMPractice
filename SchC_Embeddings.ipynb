{
  "cells": [
    {
      "cell_type": "markdown",
      "metadata": {
        "id": "view-in-github",
        "colab_type": "text"
      },
      "source": [
        "<a href=\"https://colab.research.google.com/github/christopherfan/ChrisFanLLMPractice/blob/main/SchC_Embeddings.ipynb\" target=\"_parent\"><img src=\"https://colab.research.google.com/assets/colab-badge.svg\" alt=\"Open In Colab\"/></a>"
      ]
    },
    {
      "cell_type": "markdown",
      "metadata": {
        "id": "PtBXrT9ro9ZT"
      },
      "source": [
        "# Match IRS Self-Employment Schedule C Occupation codes to keywords by creating Vector DB of Embeddings"
      ]
    },
    {
      "cell_type": "code",
      "source": [],
      "metadata": {
        "id": "Yq3VZRWGM0zV"
      },
      "execution_count": null,
      "outputs": []
    },
    {
      "cell_type": "code",
      "execution_count": null,
      "metadata": {
        "colab": {
          "base_uri": "https://localhost:8080/"
        },
        "id": "C6rn2E1zonLx",
        "outputId": "d387652f-4779-4add-d382-4b23e46a2f56"
      },
      "outputs": [
        {
          "output_type": "stream",
          "name": "stdout",
          "text": [
            "\u001b[2K     \u001b[90m━━━━━━━━━━━━━━━━━━━━━━━━━━━━━━━━━━━━━━━━\u001b[0m \u001b[32m70.1/70.1 KB\u001b[0m \u001b[31m5.4 MB/s\u001b[0m eta \u001b[36m0:00:00\u001b[0m\n",
            "\u001b[2K     \u001b[90m━━━━━━━━━━━━━━━━━━━━━━━━━━━━━━━━━━━━━━━━\u001b[0m \u001b[32m1.0/1.0 MB\u001b[0m \u001b[31m35.5 MB/s\u001b[0m eta \u001b[36m0:00:00\u001b[0m\n",
            "\u001b[2K     \u001b[90m━━━━━━━━━━━━━━━━━━━━━━━━━━━━━━━━━━━━━━\u001b[0m \u001b[32m264.6/264.6 KB\u001b[0m \u001b[31m28.8 MB/s\u001b[0m eta \u001b[36m0:00:00\u001b[0m\n",
            "\u001b[2K     \u001b[90m━━━━━━━━━━━━━━━━━━━━━━━━━━━━━━━━━━━━━━\u001b[0m \u001b[32m158.8/158.8 KB\u001b[0m \u001b[31m19.4 MB/s\u001b[0m eta \u001b[36m0:00:00\u001b[0m\n",
            "\u001b[2K     \u001b[90m━━━━━━━━━━━━━━━━━━━━━━━━━━━━━━━━━━━━━━\u001b[0m \u001b[32m114.2/114.2 KB\u001b[0m \u001b[31m13.6 MB/s\u001b[0m eta \u001b[36m0:00:00\u001b[0m\n",
            "\u001b[2K     \u001b[90m━━━━━━━━━━━━━━━━━━━━━━━━━━━━━━━━━━━━━━\u001b[0m \u001b[32m199.2/199.2 KB\u001b[0m \u001b[31m21.3 MB/s\u001b[0m eta \u001b[36m0:00:00\u001b[0m\n",
            "\u001b[?25h"
          ]
        }
      ],
      "source": [
        "!pip install openai -q\n"
      ]
    },
    {
      "cell_type": "code",
      "execution_count": null,
      "metadata": {
        "colab": {
          "base_uri": "https://localhost:8080/"
        },
        "id": "xVC6HO21o_t5",
        "outputId": "6f7dfdd0-d39a-445c-a843-f3e4d0e20dce"
      },
      "outputs": [
        {
          "name": "stdout",
          "output_type": "stream",
          "text": [
            "··········\n"
          ]
        }
      ],
      "source": [
        "import openai\n",
        "import pandas as pd\n",
        "import numpy as np\n",
        "from getpass import getpass\n",
        "\n",
        "openai.api_key = getpass()"
      ]
    },
    {
      "cell_type": "markdown",
      "metadata": {
        "id": "MUdIRFOxpEte"
      },
      "source": [
        "Read CSV of Occupation Codes\n",
        "\n",
        "The Schedule C codes were manually taken from this website\n",
        "https://proconnect.intuit.com/articles/principal-business-activity-codes/\n",
        "\n",
        "https://ics-tax.com/support/irs-business-activity-codes/"
      ]
    },
    {
      "cell_type": "code",
      "execution_count": null,
      "metadata": {
        "colab": {
          "base_uri": "https://localhost:8080/"
        },
        "id": "-aHYaYM7pHD9",
        "outputId": "4b7bbc9b-47b9-41bf-f66a-454f54a59262"
      },
      "outputs": [
        {
          "output_type": "stream",
          "name": "stdout",
          "text": [
            "                                                  Code\n",
            "0                   111100 - Oilseed and grain farming\n",
            "1                 111210 - Vegetable and melon farming\n",
            "2                  111300 - Fruit and tree nut farming\n",
            "3    111400 - Greenhouse, nursery and floriculture ...\n",
            "4    111900 - Other crop farming (tobacco, cotton, ...\n",
            "..                                                 ...\n",
            "222                 454210 - Vending machine operators\n",
            "223                       454311 - Heating oil dealers\n",
            "224  454312 - Liquefied petroleum gas (bottled gas)...\n",
            "225                        454319 - Other fuel dealers\n",
            "226       454390 - Other direct selling establishments\n",
            "\n",
            "[227 rows x 1 columns]\n"
          ]
        },
        {
          "output_type": "execute_result",
          "data": {
            "text/plain": [
              "Index(['Code'], dtype='object')"
            ]
          },
          "metadata": {},
          "execution_count": 49
        }
      ],
      "source": [
        "df = pd.read_csv(\"SchC_Codes.csv\")\n",
        "print (df)\n",
        "df.columns"
      ]
    },
    {
      "cell_type": "markdown",
      "metadata": {
        "id": "IlfVWBe3x9cL"
      },
      "source": [
        "Learn Pandas\n",
        "https://blog.resolvingpython.com/06-locating-filtering-the-pandasdataframe"
      ]
    },
    {
      "cell_type": "code",
      "execution_count": null,
      "metadata": {
        "colab": {
          "base_uri": "https://localhost:8080/"
        },
        "id": "Fixnlhr6lG9o",
        "outputId": "b5b2c033-1c9f-49b4-bf47-de70b00aa164"
      },
      "outputs": [
        {
          "output_type": "stream",
          "name": "stdout",
          "text": [
            "Code    object\n",
            "dtype: object\n",
            "                                                  Code  \\\n",
            "0                   111100 - Oilseed and grain farming   \n",
            "1                 111210 - Vegetable and melon farming   \n",
            "2                  111300 - Fruit and tree nut farming   \n",
            "3    111400 - Greenhouse, nursery and floriculture ...   \n",
            "4    111900 - Other crop farming (tobacco, cotton, ...   \n",
            "..                                                 ...   \n",
            "222                 454210 - Vending machine operators   \n",
            "223                       454311 - Heating oil dealers   \n",
            "224  454312 - Liquefied petroleum gas (bottled gas)...   \n",
            "225                        454319 - Other fuel dealers   \n",
            "226       454390 - Other direct selling establishments   \n",
            "\n",
            "                                          Code_Strings  \n",
            "0                 '111100 - Oilseed and grain farming'  \n",
            "1               '111210 - Vegetable and melon farming'  \n",
            "2                '111300 - Fruit and tree nut farming'  \n",
            "3    '111400 - Greenhouse, nursery and floriculture...  \n",
            "4    '111900 - Other crop farming (tobacco, cotton,...  \n",
            "..                                                 ...  \n",
            "222               '454210 - Vending machine operators'  \n",
            "223                     '454311 - Heating oil dealers'  \n",
            "224  '454312 - Liquefied petroleum gas (bottled gas...  \n",
            "225                      '454319 - Other fuel dealers'  \n",
            "226     '454390 - Other direct selling establishments'  \n",
            "\n",
            "[227 rows x 2 columns]\n"
          ]
        }
      ],
      "source": [
        "df['Code']= df['Code'].astype(str)\n",
        "print(df.dtypes)\n",
        "\n",
        "df[\"Code_Strings\"] = df[\"Code\"].apply(lambda x: f\"'{x}'\")\n",
        "print (df)"
      ]
    },
    {
      "cell_type": "markdown",
      "metadata": {
        "id": "5fhZVQkmp9nk"
      },
      "source": [
        "Generate embeddings for all of the 227 rows. Note: This is an expesive operation that takes 3 minutes. Output to a file for reuse"
      ]
    },
    {
      "cell_type": "code",
      "execution_count": null,
      "metadata": {
        "id": "CVUez91kL5kY"
      },
      "outputs": [],
      "source": [
        "from openai.embeddings_utils import get_embedding\n",
        "\n",
        "\n",
        "\n",
        "df['embedding'] = df['Code_Strings'].apply(lambda x: get_embedding(x, engine='text-embedding-ada-002'))\n",
        "df.to_csv('word_embeddings.csv')"
      ]
    },
    {
      "cell_type": "markdown",
      "metadata": {
        "id": "b-Ef_X5TqG-F"
      },
      "source": [
        "Saving a copy so that the original embeddings file \"word_embeddings.csv\" is not changed"
      ]
    },
    {
      "cell_type": "code",
      "execution_count": null,
      "metadata": {
        "id": "lgT0vsxum5qh"
      },
      "outputs": [],
      "source": [
        "df2 = pd.read_csv(\"word_embeddings.csv\")\n",
        "\n",
        "df2.to_csv('word_embeddings_2.csv')"
      ]
    },
    {
      "cell_type": "markdown",
      "metadata": {
        "id": "daEObggMqLyn"
      },
      "source": [
        "From tutorial, convert the embedding column from string to numpy array so that math operations are easier (cosine similarity)"
      ]
    },
    {
      "cell_type": "code",
      "execution_count": null,
      "metadata": {
        "id": "B-1LjKWOnXlH"
      },
      "outputs": [],
      "source": [
        "df = pd.read_csv('word_embeddings_2.csv')\n",
        "df['embedding'] = df['embedding'].apply(eval).apply(np.array)\n",
        "df"
      ]
    },
    {
      "cell_type": "markdown",
      "metadata": {
        "id": "RQooh0isqUww"
      },
      "source": [
        "Just Capture a sample \"seach query\" from the prompt"
      ]
    },
    {
      "cell_type": "code",
      "execution_count": null,
      "metadata": {
        "colab": {
          "base_uri": "https://localhost:8080/"
        },
        "id": "WukY1aIFppmH",
        "outputId": "de482886-9864-4609-c537-2c54ac6c09c2"
      },
      "outputs": [
        {
          "name": "stdout",
          "output_type": "stream",
          "text": [
            "Enter a search term: 7-Eleven Cashier\n"
          ]
        }
      ],
      "source": [
        "search_term = input('Enter a search term: ')\n"
      ]
    },
    {
      "cell_type": "markdown",
      "metadata": {
        "id": "cI-3ybSgqYlG"
      },
      "source": [
        "Generate the embedding values for the search query"
      ]
    },
    {
      "cell_type": "code",
      "execution_count": null,
      "metadata": {
        "id": "ebLC_cHIpvNc"
      },
      "outputs": [],
      "source": [
        "search_term_vector = get_embedding(search_term, engine=\"text-embedding-ada-002\")\n",
        "search_term_vector"
      ]
    },
    {
      "cell_type": "markdown",
      "metadata": {
        "id": "ug6oOeP2qbpB"
      },
      "source": [
        "In the df file, add a column that is the cosine similarity of the search_embedding and the row value"
      ]
    },
    {
      "cell_type": "code",
      "execution_count": null,
      "metadata": {
        "colab": {
          "base_uri": "https://localhost:8080/",
          "height": 294
        },
        "id": "FaHY8XMqp1k4",
        "outputId": "f5ce7077-e82d-44f0-eb14-d71516670590"
      },
      "outputs": [
        {
          "output_type": "error",
          "ename": "UFuncTypeError",
          "evalue": "ignored",
          "traceback": [
            "\u001b[0;31m---------------------------------------------------------------------------\u001b[0m",
            "\u001b[0;31mUFuncTypeError\u001b[0m                            Traceback (most recent call last)",
            "\u001b[0;32m<ipython-input-57-a53b71b86722>\u001b[0m in \u001b[0;36m<module>\u001b[0;34m\u001b[0m\n\u001b[1;32m      1\u001b[0m \u001b[0;32mfrom\u001b[0m \u001b[0mopenai\u001b[0m\u001b[0;34m.\u001b[0m\u001b[0membeddings_utils\u001b[0m \u001b[0;32mimport\u001b[0m \u001b[0mcosine_similarity\u001b[0m\u001b[0;34m\u001b[0m\u001b[0;34m\u001b[0m\u001b[0m\n\u001b[1;32m      2\u001b[0m \u001b[0mdf\u001b[0m \u001b[0;34m=\u001b[0m \u001b[0mdf\u001b[0m \u001b[0;34m=\u001b[0m \u001b[0mpd\u001b[0m\u001b[0;34m.\u001b[0m\u001b[0mread_csv\u001b[0m\u001b[0;34m(\u001b[0m\u001b[0;34m'word_embeddings.csv'\u001b[0m\u001b[0;34m)\u001b[0m\u001b[0;34m\u001b[0m\u001b[0;34m\u001b[0m\u001b[0m\n\u001b[0;32m----> 3\u001b[0;31m \u001b[0mdf\u001b[0m\u001b[0;34m[\u001b[0m\u001b[0;34m\"similarities\"\u001b[0m\u001b[0;34m]\u001b[0m \u001b[0;34m=\u001b[0m \u001b[0mdf\u001b[0m\u001b[0;34m[\u001b[0m\u001b[0;34m'embedding'\u001b[0m\u001b[0;34m]\u001b[0m\u001b[0;34m.\u001b[0m\u001b[0mapply\u001b[0m\u001b[0;34m(\u001b[0m\u001b[0;32mlambda\u001b[0m \u001b[0mx\u001b[0m\u001b[0;34m:\u001b[0m \u001b[0mcosine_similarity\u001b[0m\u001b[0;34m(\u001b[0m\u001b[0mx\u001b[0m\u001b[0;34m,\u001b[0m \u001b[0msearch_term_vector\u001b[0m\u001b[0;34m)\u001b[0m\u001b[0;34m)\u001b[0m\u001b[0;34m\u001b[0m\u001b[0;34m\u001b[0m\u001b[0m\n\u001b[0m\u001b[1;32m      4\u001b[0m \u001b[0;34m\u001b[0m\u001b[0m\n\u001b[1;32m      5\u001b[0m \u001b[0mdf\u001b[0m\u001b[0;34m\u001b[0m\u001b[0;34m\u001b[0m\u001b[0m\n",
            "\u001b[0;32m/usr/local/lib/python3.9/dist-packages/pandas/core/series.py\u001b[0m in \u001b[0;36mapply\u001b[0;34m(self, func, convert_dtype, args, **kwargs)\u001b[0m\n\u001b[1;32m   4431\u001b[0m         \u001b[0mdtype\u001b[0m\u001b[0;34m:\u001b[0m \u001b[0mfloat64\u001b[0m\u001b[0;34m\u001b[0m\u001b[0;34m\u001b[0m\u001b[0m\n\u001b[1;32m   4432\u001b[0m         \"\"\"\n\u001b[0;32m-> 4433\u001b[0;31m         \u001b[0;32mreturn\u001b[0m \u001b[0mSeriesApply\u001b[0m\u001b[0;34m(\u001b[0m\u001b[0mself\u001b[0m\u001b[0;34m,\u001b[0m \u001b[0mfunc\u001b[0m\u001b[0;34m,\u001b[0m \u001b[0mconvert_dtype\u001b[0m\u001b[0;34m,\u001b[0m \u001b[0margs\u001b[0m\u001b[0;34m,\u001b[0m \u001b[0mkwargs\u001b[0m\u001b[0;34m)\u001b[0m\u001b[0;34m.\u001b[0m\u001b[0mapply\u001b[0m\u001b[0;34m(\u001b[0m\u001b[0;34m)\u001b[0m\u001b[0;34m\u001b[0m\u001b[0;34m\u001b[0m\u001b[0m\n\u001b[0m\u001b[1;32m   4434\u001b[0m \u001b[0;34m\u001b[0m\u001b[0m\n\u001b[1;32m   4435\u001b[0m     def _reduce(\n",
            "\u001b[0;32m/usr/local/lib/python3.9/dist-packages/pandas/core/apply.py\u001b[0m in \u001b[0;36mapply\u001b[0;34m(self)\u001b[0m\n\u001b[1;32m   1086\u001b[0m             \u001b[0;32mreturn\u001b[0m \u001b[0mself\u001b[0m\u001b[0;34m.\u001b[0m\u001b[0mapply_str\u001b[0m\u001b[0;34m(\u001b[0m\u001b[0;34m)\u001b[0m\u001b[0;34m\u001b[0m\u001b[0;34m\u001b[0m\u001b[0m\n\u001b[1;32m   1087\u001b[0m \u001b[0;34m\u001b[0m\u001b[0m\n\u001b[0;32m-> 1088\u001b[0;31m         \u001b[0;32mreturn\u001b[0m \u001b[0mself\u001b[0m\u001b[0;34m.\u001b[0m\u001b[0mapply_standard\u001b[0m\u001b[0;34m(\u001b[0m\u001b[0;34m)\u001b[0m\u001b[0;34m\u001b[0m\u001b[0;34m\u001b[0m\u001b[0m\n\u001b[0m\u001b[1;32m   1089\u001b[0m \u001b[0;34m\u001b[0m\u001b[0m\n\u001b[1;32m   1090\u001b[0m     \u001b[0;32mdef\u001b[0m \u001b[0magg\u001b[0m\u001b[0;34m(\u001b[0m\u001b[0mself\u001b[0m\u001b[0;34m)\u001b[0m\u001b[0;34m:\u001b[0m\u001b[0;34m\u001b[0m\u001b[0;34m\u001b[0m\u001b[0m\n",
            "\u001b[0;32m/usr/local/lib/python3.9/dist-packages/pandas/core/apply.py\u001b[0m in \u001b[0;36mapply_standard\u001b[0;34m(self)\u001b[0m\n\u001b[1;32m   1141\u001b[0m                 \u001b[0;31m# List[Union[Callable[..., Any], str]]]]]\"; expected\u001b[0m\u001b[0;34m\u001b[0m\u001b[0;34m\u001b[0m\u001b[0m\n\u001b[1;32m   1142\u001b[0m                 \u001b[0;31m# \"Callable[[Any], Any]\"\u001b[0m\u001b[0;34m\u001b[0m\u001b[0;34m\u001b[0m\u001b[0m\n\u001b[0;32m-> 1143\u001b[0;31m                 mapped = lib.map_infer(\n\u001b[0m\u001b[1;32m   1144\u001b[0m                     \u001b[0mvalues\u001b[0m\u001b[0;34m,\u001b[0m\u001b[0;34m\u001b[0m\u001b[0;34m\u001b[0m\u001b[0m\n\u001b[1;32m   1145\u001b[0m                     \u001b[0mf\u001b[0m\u001b[0;34m,\u001b[0m  \u001b[0;31m# type: ignore[arg-type]\u001b[0m\u001b[0;34m\u001b[0m\u001b[0;34m\u001b[0m\u001b[0m\n",
            "\u001b[0;32m/usr/local/lib/python3.9/dist-packages/pandas/_libs/lib.pyx\u001b[0m in \u001b[0;36mpandas._libs.lib.map_infer\u001b[0;34m()\u001b[0m\n",
            "\u001b[0;32m<ipython-input-57-a53b71b86722>\u001b[0m in \u001b[0;36m<lambda>\u001b[0;34m(x)\u001b[0m\n\u001b[1;32m      1\u001b[0m \u001b[0;32mfrom\u001b[0m \u001b[0mopenai\u001b[0m\u001b[0;34m.\u001b[0m\u001b[0membeddings_utils\u001b[0m \u001b[0;32mimport\u001b[0m \u001b[0mcosine_similarity\u001b[0m\u001b[0;34m\u001b[0m\u001b[0;34m\u001b[0m\u001b[0m\n\u001b[1;32m      2\u001b[0m \u001b[0mdf\u001b[0m \u001b[0;34m=\u001b[0m \u001b[0mdf\u001b[0m \u001b[0;34m=\u001b[0m \u001b[0mpd\u001b[0m\u001b[0;34m.\u001b[0m\u001b[0mread_csv\u001b[0m\u001b[0;34m(\u001b[0m\u001b[0;34m'word_embeddings.csv'\u001b[0m\u001b[0;34m)\u001b[0m\u001b[0;34m\u001b[0m\u001b[0;34m\u001b[0m\u001b[0m\n\u001b[0;32m----> 3\u001b[0;31m \u001b[0mdf\u001b[0m\u001b[0;34m[\u001b[0m\u001b[0;34m\"similarities\"\u001b[0m\u001b[0;34m]\u001b[0m \u001b[0;34m=\u001b[0m \u001b[0mdf\u001b[0m\u001b[0;34m[\u001b[0m\u001b[0;34m'embedding'\u001b[0m\u001b[0;34m]\u001b[0m\u001b[0;34m.\u001b[0m\u001b[0mapply\u001b[0m\u001b[0;34m(\u001b[0m\u001b[0;32mlambda\u001b[0m \u001b[0mx\u001b[0m\u001b[0;34m:\u001b[0m \u001b[0mcosine_similarity\u001b[0m\u001b[0;34m(\u001b[0m\u001b[0mx\u001b[0m\u001b[0;34m,\u001b[0m \u001b[0msearch_term_vector\u001b[0m\u001b[0;34m)\u001b[0m\u001b[0;34m)\u001b[0m\u001b[0;34m\u001b[0m\u001b[0;34m\u001b[0m\u001b[0m\n\u001b[0m\u001b[1;32m      4\u001b[0m \u001b[0;34m\u001b[0m\u001b[0m\n\u001b[1;32m      5\u001b[0m \u001b[0mdf\u001b[0m\u001b[0;34m\u001b[0m\u001b[0;34m\u001b[0m\u001b[0m\n",
            "\u001b[0;32m/usr/local/lib/python3.9/dist-packages/openai/embeddings_utils.py\u001b[0m in \u001b[0;36mcosine_similarity\u001b[0;34m(a, b)\u001b[0m\n\u001b[1;32m     66\u001b[0m \u001b[0;34m\u001b[0m\u001b[0m\n\u001b[1;32m     67\u001b[0m \u001b[0;32mdef\u001b[0m \u001b[0mcosine_similarity\u001b[0m\u001b[0;34m(\u001b[0m\u001b[0ma\u001b[0m\u001b[0;34m,\u001b[0m \u001b[0mb\u001b[0m\u001b[0;34m)\u001b[0m\u001b[0;34m:\u001b[0m\u001b[0;34m\u001b[0m\u001b[0;34m\u001b[0m\u001b[0m\n\u001b[0;32m---> 68\u001b[0;31m     \u001b[0;32mreturn\u001b[0m \u001b[0mnp\u001b[0m\u001b[0;34m.\u001b[0m\u001b[0mdot\u001b[0m\u001b[0;34m(\u001b[0m\u001b[0ma\u001b[0m\u001b[0;34m,\u001b[0m \u001b[0mb\u001b[0m\u001b[0;34m)\u001b[0m \u001b[0;34m/\u001b[0m \u001b[0;34m(\u001b[0m\u001b[0mnp\u001b[0m\u001b[0;34m.\u001b[0m\u001b[0mlinalg\u001b[0m\u001b[0;34m.\u001b[0m\u001b[0mnorm\u001b[0m\u001b[0;34m(\u001b[0m\u001b[0ma\u001b[0m\u001b[0;34m)\u001b[0m \u001b[0;34m*\u001b[0m \u001b[0mnp\u001b[0m\u001b[0;34m.\u001b[0m\u001b[0mlinalg\u001b[0m\u001b[0;34m.\u001b[0m\u001b[0mnorm\u001b[0m\u001b[0;34m(\u001b[0m\u001b[0mb\u001b[0m\u001b[0;34m)\u001b[0m\u001b[0;34m)\u001b[0m\u001b[0;34m\u001b[0m\u001b[0;34m\u001b[0m\u001b[0m\n\u001b[0m\u001b[1;32m     69\u001b[0m \u001b[0;34m\u001b[0m\u001b[0m\n\u001b[1;32m     70\u001b[0m \u001b[0;34m\u001b[0m\u001b[0m\n",
            "\u001b[0;32m/usr/local/lib/python3.9/dist-packages/numpy/core/overrides.py\u001b[0m in \u001b[0;36mdot\u001b[0;34m(*args, **kwargs)\u001b[0m\n",
            "\u001b[0;31mUFuncTypeError\u001b[0m: ufunc 'multiply' did not contain a loop with signature matching types (dtype('<U34444'), dtype('<U23')) -> None"
          ]
        }
      ],
      "source": [
        "from openai.embeddings_utils import cosine_similarity\n",
        "df = df = pd.read_csv('word_embeddings.csv')\n",
        "df[\"similarities\"] = df['embedding'].apply(lambda x: cosine_similarity(x, search_term_vector))\n",
        "\n",
        "df"
      ]
    },
    {
      "cell_type": "markdown",
      "metadata": {
        "id": "94gGIZhGrMjM"
      },
      "source": [
        "Sort by similarity column and show top 20"
      ]
    },
    {
      "cell_type": "code",
      "execution_count": null,
      "metadata": {
        "colab": {
          "base_uri": "https://localhost:8080/",
          "height": 1000
        },
        "id": "DSwsNbQArPqI",
        "outputId": "462eb459-58df-4e47-e82d-71c96219dd00"
      },
      "outputs": [
        {
          "data": {
            "text/html": [
              "\n",
              "  <div id=\"df-743891c9-9f74-41cd-b71c-80f867e9dffd\">\n",
              "    <div class=\"colab-df-container\">\n",
              "      <div>\n",
              "<style scoped>\n",
              "    .dataframe tbody tr th:only-of-type {\n",
              "        vertical-align: middle;\n",
              "    }\n",
              "\n",
              "    .dataframe tbody tr th {\n",
              "        vertical-align: top;\n",
              "    }\n",
              "\n",
              "    .dataframe thead th {\n",
              "        text-align: right;\n",
              "    }\n",
              "</style>\n",
              "<table border=\"1\" class=\"dataframe\">\n",
              "  <thead>\n",
              "    <tr style=\"text-align: right;\">\n",
              "      <th></th>\n",
              "      <th>Unnamed: 0.1</th>\n",
              "      <th>Unnamed: 0</th>\n",
              "      <th>Code</th>\n",
              "      <th>Code_Strings</th>\n",
              "      <th>embedding</th>\n",
              "      <th>similarities</th>\n",
              "    </tr>\n",
              "  </thead>\n",
              "  <tbody>\n",
              "    <tr>\n",
              "      <th>182</th>\n",
              "      <td>182</td>\n",
              "      <td>182</td>\n",
              "      <td>Convenience stores</td>\n",
              "      <td>'Convenience stores'</td>\n",
              "      <td>[-0.014340559020638466, 0.005075591150671244, ...</td>\n",
              "      <td>0.813279</td>\n",
              "    </tr>\n",
              "    <tr>\n",
              "      <th>222</th>\n",
              "      <td>222</td>\n",
              "      <td>222</td>\n",
              "      <td>Vending machine operators</td>\n",
              "      <td>'Vending machine operators'</td>\n",
              "      <td>[-0.04552803561091423, -0.0221136175096035, -0...</td>\n",
              "      <td>0.806825</td>\n",
              "    </tr>\n",
              "    <tr>\n",
              "      <th>186</th>\n",
              "      <td>186</td>\n",
              "      <td>186</td>\n",
              "      <td>Baked goods stores</td>\n",
              "      <td>'Baked goods stores'</td>\n",
              "      <td>[-0.010081874206662178, -0.006323901005089283,...</td>\n",
              "      <td>0.805441</td>\n",
              "    </tr>\n",
              "    <tr>\n",
              "      <th>212</th>\n",
              "      <td>212</td>\n",
              "      <td>212</td>\n",
              "      <td>Other general merchandise stores</td>\n",
              "      <td>'Other general merchandise stores'</td>\n",
              "      <td>[-0.03258519247174263, 0.0003085973730776459, ...</td>\n",
              "      <td>0.797021</td>\n",
              "    </tr>\n",
              "    <tr>\n",
              "      <th>211</th>\n",
              "      <td>211</td>\n",
              "      <td>211</td>\n",
              "      <td>Department stores</td>\n",
              "      <td>'Department stores'</td>\n",
              "      <td>[-0.022511838003993034, 0.004748278297483921, ...</td>\n",
              "      <td>0.795168</td>\n",
              "    </tr>\n",
              "    <tr>\n",
              "      <th>201</th>\n",
              "      <td>201</td>\n",
              "      <td>201</td>\n",
              "      <td>Shoe stores</td>\n",
              "      <td>'Shoe stores'</td>\n",
              "      <td>[-0.012138226069509983, -0.014041997492313385,...</td>\n",
              "      <td>0.792094</td>\n",
              "    </tr>\n",
              "    <tr>\n",
              "      <th>187</th>\n",
              "      <td>187</td>\n",
              "      <td>187</td>\n",
              "      <td>Confectionery and nut stores</td>\n",
              "      <td>'Confectionery and nut stores'</td>\n",
              "      <td>[-0.012941259890794754, -0.0027637043967843056...</td>\n",
              "      <td>0.791118</td>\n",
              "    </tr>\n",
              "    <tr>\n",
              "      <th>203</th>\n",
              "      <td>203</td>\n",
              "      <td>203</td>\n",
              "      <td>Luggage and leather goods stores</td>\n",
              "      <td>'Luggage and leather goods stores'</td>\n",
              "      <td>[0.007694509346038103, 0.002545878989621997, 0...</td>\n",
              "      <td>0.790051</td>\n",
              "    </tr>\n",
              "    <tr>\n",
              "      <th>214</th>\n",
              "      <td>214</td>\n",
              "      <td>214</td>\n",
              "      <td>Office supplies and stationery stores</td>\n",
              "      <td>'Office supplies and stationery stores'</td>\n",
              "      <td>[-0.00824684090912342, 0.010940365493297577, -...</td>\n",
              "      <td>0.789785</td>\n",
              "    </tr>\n",
              "    <tr>\n",
              "      <th>199</th>\n",
              "      <td>199</td>\n",
              "      <td>199</td>\n",
              "      <td>Clothing accessories stores</td>\n",
              "      <td>'Clothing accessories stores'</td>\n",
              "      <td>[-0.015930362045764923, -0.0004329986986704170...</td>\n",
              "      <td>0.789131</td>\n",
              "    </tr>\n",
              "    <tr>\n",
              "      <th>200</th>\n",
              "      <td>200</td>\n",
              "      <td>200</td>\n",
              "      <td>Other clothing stores</td>\n",
              "      <td>'Other clothing stores'</td>\n",
              "      <td>[-0.02333003282546997, -0.01123986765742302, -...</td>\n",
              "      <td>0.787917</td>\n",
              "    </tr>\n",
              "    <tr>\n",
              "      <th>178</th>\n",
              "      <td>178</td>\n",
              "      <td>178</td>\n",
              "      <td>Hardware stores</td>\n",
              "      <td>'Hardware stores'</td>\n",
              "      <td>[-0.004491300787776709, 0.0012869504280388355,...</td>\n",
              "      <td>0.787274</td>\n",
              "    </tr>\n",
              "    <tr>\n",
              "      <th>180</th>\n",
              "      <td>180</td>\n",
              "      <td>180</td>\n",
              "      <td>Lawn and garden equipment and supplies stores</td>\n",
              "      <td>'Lawn and garden equipment and supplies stores'</td>\n",
              "      <td>[-0.0014100947882980108, 0.005132974591106176,...</td>\n",
              "      <td>0.787112</td>\n",
              "    </tr>\n",
              "    <tr>\n",
              "      <th>226</th>\n",
              "      <td>226</td>\n",
              "      <td>226</td>\n",
              "      <td>Other direct selling establishments</td>\n",
              "      <td>'Other direct selling establishments'</td>\n",
              "      <td>[-0.04244401305913925, -0.011463372968137264, ...</td>\n",
              "      <td>0.786827</td>\n",
              "    </tr>\n",
              "    <tr>\n",
              "      <th>216</th>\n",
              "      <td>216</td>\n",
              "      <td>216</td>\n",
              "      <td>Used merchandise stores</td>\n",
              "      <td>'Used merchandise stores'</td>\n",
              "      <td>[-0.020152851939201355, -0.010614386759698391,...</td>\n",
              "      <td>0.786500</td>\n",
              "    </tr>\n",
              "    <tr>\n",
              "      <th>175</th>\n",
              "      <td>175</td>\n",
              "      <td>175</td>\n",
              "      <td>Camera and photographic supplies stores</td>\n",
              "      <td>'Camera and photographic supplies stores'</td>\n",
              "      <td>[-0.004590545315295458, 0.009387931786477566, ...</td>\n",
              "      <td>0.785211</td>\n",
              "    </tr>\n",
              "    <tr>\n",
              "      <th>189</th>\n",
              "      <td>189</td>\n",
              "      <td>189</td>\n",
              "      <td>Beer, wine, liquor stores</td>\n",
              "      <td>'Beer, wine, liquor stores'</td>\n",
              "      <td>[-0.0034859306178987026, -0.008897609077394009...</td>\n",
              "      <td>0.785103</td>\n",
              "    </tr>\n",
              "    <tr>\n",
              "      <th>202</th>\n",
              "      <td>202</td>\n",
              "      <td>202</td>\n",
              "      <td>Jewelry stores</td>\n",
              "      <td>'Jewelry stores'</td>\n",
              "      <td>[-0.028251873329281807, 0.003890280146151781, ...</td>\n",
              "      <td>0.784941</td>\n",
              "    </tr>\n",
              "    <tr>\n",
              "      <th>198</th>\n",
              "      <td>198</td>\n",
              "      <td>198</td>\n",
              "      <td>Family clothing stores</td>\n",
              "      <td>'Family clothing stores'</td>\n",
              "      <td>[-0.01265550497919321, 0.007705974858254194, -...</td>\n",
              "      <td>0.784151</td>\n",
              "    </tr>\n",
              "    <tr>\n",
              "      <th>193</th>\n",
              "      <td>193</td>\n",
              "      <td>193</td>\n",
              "      <td>Other health and personal care stores</td>\n",
              "      <td>'Other health and personal care stores'</td>\n",
              "      <td>[-0.0027127505745738745, 0.006314708385616541,...</td>\n",
              "      <td>0.783345</td>\n",
              "    </tr>\n",
              "  </tbody>\n",
              "</table>\n",
              "</div>\n",
              "      <button class=\"colab-df-convert\" onclick=\"convertToInteractive('df-743891c9-9f74-41cd-b71c-80f867e9dffd')\"\n",
              "              title=\"Convert this dataframe to an interactive table.\"\n",
              "              style=\"display:none;\">\n",
              "        \n",
              "  <svg xmlns=\"http://www.w3.org/2000/svg\" height=\"24px\"viewBox=\"0 0 24 24\"\n",
              "       width=\"24px\">\n",
              "    <path d=\"M0 0h24v24H0V0z\" fill=\"none\"/>\n",
              "    <path d=\"M18.56 5.44l.94 2.06.94-2.06 2.06-.94-2.06-.94-.94-2.06-.94 2.06-2.06.94zm-11 1L8.5 8.5l.94-2.06 2.06-.94-2.06-.94L8.5 2.5l-.94 2.06-2.06.94zm10 10l.94 2.06.94-2.06 2.06-.94-2.06-.94-.94-2.06-.94 2.06-2.06.94z\"/><path d=\"M17.41 7.96l-1.37-1.37c-.4-.4-.92-.59-1.43-.59-.52 0-1.04.2-1.43.59L10.3 9.45l-7.72 7.72c-.78.78-.78 2.05 0 2.83L4 21.41c.39.39.9.59 1.41.59.51 0 1.02-.2 1.41-.59l7.78-7.78 2.81-2.81c.8-.78.8-2.07 0-2.86zM5.41 20L4 18.59l7.72-7.72 1.47 1.35L5.41 20z\"/>\n",
              "  </svg>\n",
              "      </button>\n",
              "      \n",
              "  <style>\n",
              "    .colab-df-container {\n",
              "      display:flex;\n",
              "      flex-wrap:wrap;\n",
              "      gap: 12px;\n",
              "    }\n",
              "\n",
              "    .colab-df-convert {\n",
              "      background-color: #E8F0FE;\n",
              "      border: none;\n",
              "      border-radius: 50%;\n",
              "      cursor: pointer;\n",
              "      display: none;\n",
              "      fill: #1967D2;\n",
              "      height: 32px;\n",
              "      padding: 0 0 0 0;\n",
              "      width: 32px;\n",
              "    }\n",
              "\n",
              "    .colab-df-convert:hover {\n",
              "      background-color: #E2EBFA;\n",
              "      box-shadow: 0px 1px 2px rgba(60, 64, 67, 0.3), 0px 1px 3px 1px rgba(60, 64, 67, 0.15);\n",
              "      fill: #174EA6;\n",
              "    }\n",
              "\n",
              "    [theme=dark] .colab-df-convert {\n",
              "      background-color: #3B4455;\n",
              "      fill: #D2E3FC;\n",
              "    }\n",
              "\n",
              "    [theme=dark] .colab-df-convert:hover {\n",
              "      background-color: #434B5C;\n",
              "      box-shadow: 0px 1px 3px 1px rgba(0, 0, 0, 0.15);\n",
              "      filter: drop-shadow(0px 1px 2px rgba(0, 0, 0, 0.3));\n",
              "      fill: #FFFFFF;\n",
              "    }\n",
              "  </style>\n",
              "\n",
              "      <script>\n",
              "        const buttonEl =\n",
              "          document.querySelector('#df-743891c9-9f74-41cd-b71c-80f867e9dffd button.colab-df-convert');\n",
              "        buttonEl.style.display =\n",
              "          google.colab.kernel.accessAllowed ? 'block' : 'none';\n",
              "\n",
              "        async function convertToInteractive(key) {\n",
              "          const element = document.querySelector('#df-743891c9-9f74-41cd-b71c-80f867e9dffd');\n",
              "          const dataTable =\n",
              "            await google.colab.kernel.invokeFunction('convertToInteractive',\n",
              "                                                     [key], {});\n",
              "          if (!dataTable) return;\n",
              "\n",
              "          const docLinkHtml = 'Like what you see? Visit the ' +\n",
              "            '<a target=\"_blank\" href=https://colab.research.google.com/notebooks/data_table.ipynb>data table notebook</a>'\n",
              "            + ' to learn more about interactive tables.';\n",
              "          element.innerHTML = '';\n",
              "          dataTable['output_type'] = 'display_data';\n",
              "          await google.colab.output.renderOutput(dataTable, element);\n",
              "          const docLink = document.createElement('div');\n",
              "          docLink.innerHTML = docLinkHtml;\n",
              "          element.appendChild(docLink);\n",
              "        }\n",
              "      </script>\n",
              "    </div>\n",
              "  </div>\n",
              "  "
            ],
            "text/plain": [
              "     Unnamed: 0.1  Unnamed: 0                                           Code  \\\n",
              "182           182         182                             Convenience stores   \n",
              "222           222         222                      Vending machine operators   \n",
              "186           186         186                             Baked goods stores   \n",
              "212           212         212               Other general merchandise stores   \n",
              "211           211         211                              Department stores   \n",
              "201           201         201                                    Shoe stores   \n",
              "187           187         187                   Confectionery and nut stores   \n",
              "203           203         203               Luggage and leather goods stores   \n",
              "214           214         214          Office supplies and stationery stores   \n",
              "199           199         199                    Clothing accessories stores   \n",
              "200           200         200                          Other clothing stores   \n",
              "178           178         178                                Hardware stores   \n",
              "180           180         180  Lawn and garden equipment and supplies stores   \n",
              "226           226         226            Other direct selling establishments   \n",
              "216           216         216                        Used merchandise stores   \n",
              "175           175         175        Camera and photographic supplies stores   \n",
              "189           189         189                      Beer, wine, liquor stores   \n",
              "202           202         202                                 Jewelry stores   \n",
              "198           198         198                         Family clothing stores   \n",
              "193           193         193          Other health and personal care stores   \n",
              "\n",
              "                                        Code_Strings  \\\n",
              "182                             'Convenience stores'   \n",
              "222                      'Vending machine operators'   \n",
              "186                             'Baked goods stores'   \n",
              "212               'Other general merchandise stores'   \n",
              "211                              'Department stores'   \n",
              "201                                    'Shoe stores'   \n",
              "187                   'Confectionery and nut stores'   \n",
              "203               'Luggage and leather goods stores'   \n",
              "214          'Office supplies and stationery stores'   \n",
              "199                    'Clothing accessories stores'   \n",
              "200                          'Other clothing stores'   \n",
              "178                                'Hardware stores'   \n",
              "180  'Lawn and garden equipment and supplies stores'   \n",
              "226            'Other direct selling establishments'   \n",
              "216                        'Used merchandise stores'   \n",
              "175        'Camera and photographic supplies stores'   \n",
              "189                      'Beer, wine, liquor stores'   \n",
              "202                                 'Jewelry stores'   \n",
              "198                         'Family clothing stores'   \n",
              "193          'Other health and personal care stores'   \n",
              "\n",
              "                                             embedding  similarities  \n",
              "182  [-0.014340559020638466, 0.005075591150671244, ...      0.813279  \n",
              "222  [-0.04552803561091423, -0.0221136175096035, -0...      0.806825  \n",
              "186  [-0.010081874206662178, -0.006323901005089283,...      0.805441  \n",
              "212  [-0.03258519247174263, 0.0003085973730776459, ...      0.797021  \n",
              "211  [-0.022511838003993034, 0.004748278297483921, ...      0.795168  \n",
              "201  [-0.012138226069509983, -0.014041997492313385,...      0.792094  \n",
              "187  [-0.012941259890794754, -0.0027637043967843056...      0.791118  \n",
              "203  [0.007694509346038103, 0.002545878989621997, 0...      0.790051  \n",
              "214  [-0.00824684090912342, 0.010940365493297577, -...      0.789785  \n",
              "199  [-0.015930362045764923, -0.0004329986986704170...      0.789131  \n",
              "200  [-0.02333003282546997, -0.01123986765742302, -...      0.787917  \n",
              "178  [-0.004491300787776709, 0.0012869504280388355,...      0.787274  \n",
              "180  [-0.0014100947882980108, 0.005132974591106176,...      0.787112  \n",
              "226  [-0.04244401305913925, -0.011463372968137264, ...      0.786827  \n",
              "216  [-0.020152851939201355, -0.010614386759698391,...      0.786500  \n",
              "175  [-0.004590545315295458, 0.009387931786477566, ...      0.785211  \n",
              "189  [-0.0034859306178987026, -0.008897609077394009...      0.785103  \n",
              "202  [-0.028251873329281807, 0.003890280146151781, ...      0.784941  \n",
              "198  [-0.01265550497919321, 0.007705974858254194, -...      0.784151  \n",
              "193  [-0.0027127505745738745, 0.006314708385616541,...      0.783345  "
            ]
          },
          "execution_count": 119,
          "metadata": {},
          "output_type": "execute_result"
        }
      ],
      "source": [
        "df.sort_values(\"similarities\", ascending=False).head(20)\n"
      ]
    },
    {
      "cell_type": "markdown",
      "metadata": {
        "id": "UNcrsNz1p1PM"
      },
      "source": []
    },
    {
      "cell_type": "markdown",
      "metadata": {
        "id": "zeHGcAZX0fSf"
      },
      "source": [
        "Take the NAICS file and split into 4 smaller parts"
      ]
    },
    {
      "cell_type": "code",
      "execution_count": null,
      "metadata": {
        "colab": {
          "base_uri": "https://localhost:8080/"
        },
        "id": "qPEieDFR0iOe",
        "outputId": "0c2e7871-f1ac-4bb7-efa4-5d7213f17883"
      },
      "outputs": [
        {
          "name": "stdout",
          "output_type": "stream",
          "text": [
            "Row Count 1012\n",
            "first Chunk: 0 - 253.0\n",
            "second Chunk: 253.0 - 506.0\n",
            "third Chunk: 506.0 - 759.0\n",
            "fourth Chunk: 759.0 - 1012.0\n"
          ]
        }
      ],
      "source": [
        "import pandas as pd\n",
        "import numpy as np\n",
        "\n",
        "# load the data into a DataFrame\n",
        "#df = pd.read_csv('NAICS_2022_Codes.csv')\n",
        "df = pd.read_csv('/content/drive/MyDrive/AI Overlords /CoLabStuff/NAICS_2022_Codes.csv')\n",
        "\n",
        "\n",
        "row_count = df.shape[0]\n",
        "print (\"Row Count\", row_count)\n",
        "chunk_count = row_count /4\n",
        "\n",
        "\n",
        "print(f\"first Chunk: 0 - {chunk_count}\")\n",
        "print(f\"second Chunk: {chunk_count} - {chunk_count *2}\")\n",
        "print(f\"third Chunk: {chunk_count*2} - {chunk_count *3}\")\n",
        "print(f\"fourth Chunk: {chunk_count*3} - {chunk_count *4}\")\n",
        "\n",
        "df1 = df.iloc[: int(chunk_count)]\n",
        "df2 = df.iloc[int(chunk_count): int(chunk_count*2)]\n",
        "df3 = df.iloc[int(chunk_count*2): int(chunk_count*3)]\n",
        "df4 = df.iloc[int(chunk_count*3): int(chunk_count*4)]\n",
        "\n",
        "\n",
        "df1.iloc[252]\n",
        "df2.iloc[252]\n",
        "df3.iloc[252]\n",
        "df4.iloc[252]\n",
        "\n",
        "\n",
        "df1.to_csv('NAICS_1.csv')\n",
        "df2.to_csv('NAICS_2.csv')\n",
        "df3.to_csv('NAICS_3.csv')\n",
        "df4.to_csv('NAICS_4.csv')\n"
      ]
    },
    {
      "cell_type": "code",
      "execution_count": null,
      "metadata": {
        "id": "KvLhPlXl6Bxh"
      },
      "outputs": [],
      "source": [
        "df = pd.read_csv('NAICS_4.csv', index_col =0)\n",
        "\n",
        "df"
      ]
    },
    {
      "cell_type": "markdown",
      "source": [
        "Generate Embeddings for #1 Quarter"
      ],
      "metadata": {
        "id": "MiHO8yUG8Kcv"
      }
    },
    {
      "cell_type": "code",
      "execution_count": null,
      "metadata": {
        "id": "K5bcmLPT6QiN"
      },
      "outputs": [],
      "source": [
        "from openai.embeddings_utils import get_embedding\n",
        "\n",
        "\n",
        "df['embedding'] = df['Titles'].apply(lambda x: get_embedding(x, engine='text-embedding-ada-002'))\n",
        "\n",
        "df.to_csv('NAICS_4_embedding.csv')\n",
        "\n",
        "#save to file"
      ]
    },
    {
      "cell_type": "code",
      "execution_count": null,
      "metadata": {
        "id": "Ix5AN_aC6Qrk",
        "colab": {
          "base_uri": "https://localhost:8080/"
        },
        "outputId": "b089100e-ea51-466d-e2da-e782ad9275b6"
      },
      "outputs": [
        {
          "output_type": "execute_result",
          "data": {
            "text/plain": [
              "Unnamed: 0                                                       759\n",
              "Titles                                'Building Inspection Services'\n",
              "embedding          [-0.020546475425362587, 0.021689441055059433, ...\n",
              "embedding_numpy    [-0.020546475425362587, 0.021689441055059433, ...\n",
              "Name: 0, dtype: object"
            ]
          },
          "metadata": {},
          "execution_count": 95
        }
      ],
      "source": [
        "#generate numpy\n",
        "\n",
        "df4 = pd.read_csv('NAICS_4_embedding.csv')\n",
        "df4['embedding_numpy'] = df4['embedding'].apply(eval).apply(np.array)\n",
        "\n",
        "df4.iloc[0]\n"
      ]
    },
    {
      "cell_type": "code",
      "source": [
        "df = df4"
      ],
      "metadata": {
        "id": "iSdnRB7F170T"
      },
      "execution_count": null,
      "outputs": []
    },
    {
      "cell_type": "markdown",
      "source": [
        "# Evaluate NAICS"
      ],
      "metadata": {
        "id": "ZL7FVy5n33oj"
      }
    },
    {
      "cell_type": "code",
      "source": [
        "from openai.embeddings_utils import cosine_similarity\n",
        "\n",
        "search_term = input('Enter a search term: ')\n",
        "\n",
        "search_term_vector = get_embedding(search_term, engine=\"text-embedding-ada-002\")\n",
        "\n",
        "\n",
        "search_term_vector"
      ],
      "metadata": {
        "id": "Ss8FExDj36EG"
      },
      "execution_count": null,
      "outputs": []
    },
    {
      "cell_type": "code",
      "source": [
        "from openai.embeddings_utils import cosine_similarity\n",
        "\n",
        "\n",
        "df[\"similarities\"] = df['embedding_numpy'].apply(lambda x: cosine_similarity(x, search_term_vector))\n",
        "\n",
        "df"
      ],
      "metadata": {
        "id": "T_mTC2P9_cFu"
      },
      "execution_count": null,
      "outputs": []
    },
    {
      "cell_type": "code",
      "source": [
        "df.sort_values(\"similarities\", ascending=False).head(20)\n"
      ],
      "metadata": {
        "id": "EMgmA5kQ4DFI"
      },
      "execution_count": null,
      "outputs": []
    },
    {
      "cell_type": "markdown",
      "source": [
        "Combine the 4 dataframes into a single file"
      ],
      "metadata": {
        "id": "QwRr-s4N698s"
      }
    },
    {
      "cell_type": "code",
      "source": [
        "df1 = pd.read_csv(\"NAICS_1_embedding.csv\")\n",
        "df2 = pd.read_csv(\"NAICS_2_embedding.csv\")\n"
      ],
      "metadata": {
        "id": "yJDpDI0Z7Cjs"
      },
      "execution_count": null,
      "outputs": []
    },
    {
      "cell_type": "code",
      "source": [
        "combined_df = pd.concat([df1,df2], axis=0)\n",
        "\n",
        "combined_df.index"
      ],
      "metadata": {
        "id": "-C7aPm757W33"
      },
      "execution_count": null,
      "outputs": []
    },
    {
      "cell_type": "code",
      "source": [
        "df3 = pd.read_csv(\"NAICS_3_embedding.csv\")\n",
        "\n",
        "combined3_df = pd.concat([combined_df,df3], axis =0)\n",
        "\n",
        "combined3_df.index"
      ],
      "metadata": {
        "id": "f7tbIXSv70v4"
      },
      "execution_count": null,
      "outputs": []
    },
    {
      "cell_type": "code",
      "source": [
        "df4 = pd.read_csv(\"NAICS_4_embedding.csv\")\n",
        "\n",
        "combined4_df = pd.concat([combined3_df,df4], axis =0)\n",
        "\n",
        "combined4_df.index"
      ],
      "metadata": {
        "colab": {
          "base_uri": "https://localhost:8080/"
        },
        "id": "mHPaLB718uXl",
        "outputId": "5fb9e841-b7c2-498c-cf71-a71ecd0448be"
      },
      "execution_count": null,
      "outputs": [
        {
          "output_type": "execute_result",
          "data": {
            "text/plain": [
              "Int64Index([  0,   1,   2,   3,   4,   5,   6,   7,   8,   9,\n",
              "            ...\n",
              "            243, 244, 245, 246, 247, 248, 249, 250, 251, 252],\n",
              "           dtype='int64', length=1012)"
            ]
          },
          "metadata": {},
          "execution_count": 112
        }
      ]
    },
    {
      "cell_type": "code",
      "source": [
        "combined4_df.iloc[1011]"
      ],
      "metadata": {
        "colab": {
          "base_uri": "https://localhost:8080/"
        },
        "id": "7Vq5o_Nw82Hl",
        "outputId": "168e2ba6-bc84-46fd-cab4-43b5a7183548"
      },
      "execution_count": null,
      "outputs": [
        {
          "output_type": "execute_result",
          "data": {
            "text/plain": [
              "Unnamed: 0                                                 1011\n",
              "Titles                                 'International Affairs '\n",
              "embedding     [-0.016352780163288116, -0.014516443014144897,...\n",
              "Name: 252, dtype: object"
            ]
          },
          "metadata": {},
          "execution_count": 115
        }
      ]
    },
    {
      "cell_type": "code",
      "source": [
        "combined4_df.to_csv(\"NAICS_ALL_embeddings.csv\")"
      ],
      "metadata": {
        "id": "ACrFzr0Z9FpG"
      },
      "execution_count": null,
      "outputs": []
    },
    {
      "cell_type": "markdown",
      "source": [
        "# Occupation Search"
      ],
      "metadata": {
        "id": "K_pdrXy09m8m"
      }
    },
    {
      "cell_type": "code",
      "source": [
        "#load Embedding file from Google Drive\n",
        "\n",
        "occupation_embeddings = pd.read_csv('/content/drive/MyDrive/AI Overlords /CoLabStuff/Embeddings/NAICS_ALL_embeddings.csv')\n"
      ],
      "metadata": {
        "id": "5jKH8hMw91WR"
      },
      "execution_count": null,
      "outputs": []
    },
    {
      "cell_type": "code",
      "source": [
        "#Generate the numpy transformation\n",
        "\n",
        "occupation_embeddings['embedding'] = occupation_embeddings['embedding'].apply(eval).apply(np.array)"
      ],
      "metadata": {
        "id": "BChkBRSj-PNr"
      },
      "execution_count": null,
      "outputs": []
    },
    {
      "cell_type": "code",
      "source": [],
      "metadata": {
        "id": "DD5LQ9dg_j4R"
      },
      "execution_count": null,
      "outputs": []
    },
    {
      "cell_type": "code",
      "source": [
        "# Get a Search Term\n",
        "\n",
        "from openai.embeddings_utils import cosine_similarity\n",
        "from openai.embeddings_utils import get_embedding\n",
        "\n",
        "\n",
        "search_term = input('Enter a search term: ')\n",
        "\n",
        "search_term_vector = get_embedding(search_term, engine=\"text-embedding-ada-002\")\n"
      ],
      "metadata": {
        "colab": {
          "base_uri": "https://localhost:8080/"
        },
        "id": "J9qNqMf--iq4",
        "outputId": "fb8c611b-d40b-4f7c-d0e3-eb915f7f94bc"
      },
      "execution_count": null,
      "outputs": [
        {
          "name": "stdout",
          "output_type": "stream",
          "text": [
            "Enter a search term: author\n"
          ]
        }
      ]
    },
    {
      "cell_type": "code",
      "source": [
        "# Generate the Cosine Similarities and store in a transformed column\n",
        "\n",
        "from openai.embeddings_utils import cosine_similarity\n",
        "\n",
        "\n",
        "occupation_embeddings[\"similarities\"] = occupation_embeddings['embedding'].apply(lambda x: cosine_similarity(x, search_term_vector))\n",
        "\n",
        "# Sort and Show top 20 highest\n",
        "occupation_embeddings.sort_values(\"similarities\", ascending=False).head(20)\n"
      ],
      "metadata": {
        "colab": {
          "base_uri": "https://localhost:8080/",
          "height": 676
        },
        "id": "sAjsjwVW-1J0",
        "outputId": "7949d175-142f-4a0a-8c84-6585d34db640"
      },
      "execution_count": null,
      "outputs": [
        {
          "output_type": "execute_result",
          "data": {
            "text/plain": [
              "     Unnamed: 0.1  Unnamed: 0  \\\n",
              "671           165         671   \n",
              "665           159         665   \n",
              "670           164         670   \n",
              "909           150         909   \n",
              "675           169         675   \n",
              "908           149         908   \n",
              "674           168         674   \n",
              "669           163         669   \n",
              "673           167         673   \n",
              "785            26         785   \n",
              "224           224         224   \n",
              "901           142         901   \n",
              "791            32         791   \n",
              "672           166         672   \n",
              "920           161         920   \n",
              "598            92         598   \n",
              "746           240         746   \n",
              "816            57         816   \n",
              "177           177         177   \n",
              "688           182         688   \n",
              "\n",
              "                                                Titles  \\\n",
              "671                                 'Book Publishers '   \n",
              "665                                 'Music Publishers'   \n",
              "670                           'Periodical Publishers '   \n",
              "909    'Independent Artists, Writers, and Performers '   \n",
              "675                              'Software Publishers'   \n",
              "908  'Agents and Managers for Artists, Athletes, En...   \n",
              "674                            'All Other Publishers '   \n",
              "669                            'Newspaper Publishers '   \n",
              "673                        'Greeting Card Publishers '   \n",
              "785                            'Media Representatives'   \n",
              "224                                  'Books Printing '   \n",
              "901                      'Musical Groups and Artists '   \n",
              "791                   'Photography Studios, Portrait '   \n",
              "672           'Directory and Mailing List Publishers '   \n",
              "920                                          'Marinas'   \n",
              "598                                     'Art Dealers '   \n",
              "746  'Lessors of Nonfinancial Intangible Assets (ex...   \n",
              "816                                   'Tour Operators'   \n",
              "177                                        'Wineries '   \n",
              "688                'Monetary Authorities-Central Bank'   \n",
              "\n",
              "                                             embedding  similarities  \n",
              "671  [0.0015727188438177109, -0.009871212765574455,...      0.812709  \n",
              "665  [-0.005058499984443188, -0.010869071818888187,...      0.798913  \n",
              "670  [-0.009683085605502129, -0.007225279230624437,...      0.796056  \n",
              "909  [-0.011815079487860203, -0.004884186200797558,...      0.795358  \n",
              "675  [0.00177779293153435, -0.020820755511522293, -...      0.794160  \n",
              "908  [-0.020482435822486877, -0.0033995064441114664...      0.794061  \n",
              "674  [-0.024291597306728363, -0.021765489131212234,...      0.793606  \n",
              "669  [-0.01220025960355997, 0.010104717686772346, 0...      0.791003  \n",
              "673  [-0.031163178384304047, 0.0035579742398113012,...      0.790583  \n",
              "785  [-0.030437935143709183, -0.0023775394074618816...      0.782223  \n",
              "224  [-0.022127123549580574, -0.002102822996675968,...      0.781433  \n",
              "901  [-0.022430097684264183, -0.0020214738324284554...      0.780084  \n",
              "791  [-0.023816382512450218, -0.0018136422149837017...      0.779818  \n",
              "672  [-0.02064218372106552, -0.0024990453384816647,...      0.779476  \n",
              "920  [-0.018586214631795883, -0.0115914735943079, 0...      0.778784  \n",
              "598  [-0.020046919584274292, 0.007483547553420067, ...      0.778689  \n",
              "746  [-0.013034641742706299, 0.002604610286653042, ...      0.775273  \n",
              "816  [-0.005476837977766991, -0.012431024573743343,...      0.774437  \n",
              "177  [0.000776544795371592, -0.01577918231487274, 0...      0.773720  \n",
              "688  [-0.016640713438391685, -0.001703579444438219,...      0.773389  "
            ],
            "text/html": [
              "\n",
              "  <div id=\"df-39fb9d9b-9c9d-4ccd-92b4-327b458943c2\">\n",
              "    <div class=\"colab-df-container\">\n",
              "      <div>\n",
              "<style scoped>\n",
              "    .dataframe tbody tr th:only-of-type {\n",
              "        vertical-align: middle;\n",
              "    }\n",
              "\n",
              "    .dataframe tbody tr th {\n",
              "        vertical-align: top;\n",
              "    }\n",
              "\n",
              "    .dataframe thead th {\n",
              "        text-align: right;\n",
              "    }\n",
              "</style>\n",
              "<table border=\"1\" class=\"dataframe\">\n",
              "  <thead>\n",
              "    <tr style=\"text-align: right;\">\n",
              "      <th></th>\n",
              "      <th>Unnamed: 0.1</th>\n",
              "      <th>Unnamed: 0</th>\n",
              "      <th>Titles</th>\n",
              "      <th>embedding</th>\n",
              "      <th>similarities</th>\n",
              "    </tr>\n",
              "  </thead>\n",
              "  <tbody>\n",
              "    <tr>\n",
              "      <th>671</th>\n",
              "      <td>165</td>\n",
              "      <td>671</td>\n",
              "      <td>'Book Publishers '</td>\n",
              "      <td>[0.0015727188438177109, -0.009871212765574455,...</td>\n",
              "      <td>0.812709</td>\n",
              "    </tr>\n",
              "    <tr>\n",
              "      <th>665</th>\n",
              "      <td>159</td>\n",
              "      <td>665</td>\n",
              "      <td>'Music Publishers'</td>\n",
              "      <td>[-0.005058499984443188, -0.010869071818888187,...</td>\n",
              "      <td>0.798913</td>\n",
              "    </tr>\n",
              "    <tr>\n",
              "      <th>670</th>\n",
              "      <td>164</td>\n",
              "      <td>670</td>\n",
              "      <td>'Periodical Publishers '</td>\n",
              "      <td>[-0.009683085605502129, -0.007225279230624437,...</td>\n",
              "      <td>0.796056</td>\n",
              "    </tr>\n",
              "    <tr>\n",
              "      <th>909</th>\n",
              "      <td>150</td>\n",
              "      <td>909</td>\n",
              "      <td>'Independent Artists, Writers, and Performers '</td>\n",
              "      <td>[-0.011815079487860203, -0.004884186200797558,...</td>\n",
              "      <td>0.795358</td>\n",
              "    </tr>\n",
              "    <tr>\n",
              "      <th>675</th>\n",
              "      <td>169</td>\n",
              "      <td>675</td>\n",
              "      <td>'Software Publishers'</td>\n",
              "      <td>[0.00177779293153435, -0.020820755511522293, -...</td>\n",
              "      <td>0.794160</td>\n",
              "    </tr>\n",
              "    <tr>\n",
              "      <th>908</th>\n",
              "      <td>149</td>\n",
              "      <td>908</td>\n",
              "      <td>'Agents and Managers for Artists, Athletes, En...</td>\n",
              "      <td>[-0.020482435822486877, -0.0033995064441114664...</td>\n",
              "      <td>0.794061</td>\n",
              "    </tr>\n",
              "    <tr>\n",
              "      <th>674</th>\n",
              "      <td>168</td>\n",
              "      <td>674</td>\n",
              "      <td>'All Other Publishers '</td>\n",
              "      <td>[-0.024291597306728363, -0.021765489131212234,...</td>\n",
              "      <td>0.793606</td>\n",
              "    </tr>\n",
              "    <tr>\n",
              "      <th>669</th>\n",
              "      <td>163</td>\n",
              "      <td>669</td>\n",
              "      <td>'Newspaper Publishers '</td>\n",
              "      <td>[-0.01220025960355997, 0.010104717686772346, 0...</td>\n",
              "      <td>0.791003</td>\n",
              "    </tr>\n",
              "    <tr>\n",
              "      <th>673</th>\n",
              "      <td>167</td>\n",
              "      <td>673</td>\n",
              "      <td>'Greeting Card Publishers '</td>\n",
              "      <td>[-0.031163178384304047, 0.0035579742398113012,...</td>\n",
              "      <td>0.790583</td>\n",
              "    </tr>\n",
              "    <tr>\n",
              "      <th>785</th>\n",
              "      <td>26</td>\n",
              "      <td>785</td>\n",
              "      <td>'Media Representatives'</td>\n",
              "      <td>[-0.030437935143709183, -0.0023775394074618816...</td>\n",
              "      <td>0.782223</td>\n",
              "    </tr>\n",
              "    <tr>\n",
              "      <th>224</th>\n",
              "      <td>224</td>\n",
              "      <td>224</td>\n",
              "      <td>'Books Printing '</td>\n",
              "      <td>[-0.022127123549580574, -0.002102822996675968,...</td>\n",
              "      <td>0.781433</td>\n",
              "    </tr>\n",
              "    <tr>\n",
              "      <th>901</th>\n",
              "      <td>142</td>\n",
              "      <td>901</td>\n",
              "      <td>'Musical Groups and Artists '</td>\n",
              "      <td>[-0.022430097684264183, -0.0020214738324284554...</td>\n",
              "      <td>0.780084</td>\n",
              "    </tr>\n",
              "    <tr>\n",
              "      <th>791</th>\n",
              "      <td>32</td>\n",
              "      <td>791</td>\n",
              "      <td>'Photography Studios, Portrait '</td>\n",
              "      <td>[-0.023816382512450218, -0.0018136422149837017...</td>\n",
              "      <td>0.779818</td>\n",
              "    </tr>\n",
              "    <tr>\n",
              "      <th>672</th>\n",
              "      <td>166</td>\n",
              "      <td>672</td>\n",
              "      <td>'Directory and Mailing List Publishers '</td>\n",
              "      <td>[-0.02064218372106552, -0.0024990453384816647,...</td>\n",
              "      <td>0.779476</td>\n",
              "    </tr>\n",
              "    <tr>\n",
              "      <th>920</th>\n",
              "      <td>161</td>\n",
              "      <td>920</td>\n",
              "      <td>'Marinas'</td>\n",
              "      <td>[-0.018586214631795883, -0.0115914735943079, 0...</td>\n",
              "      <td>0.778784</td>\n",
              "    </tr>\n",
              "    <tr>\n",
              "      <th>598</th>\n",
              "      <td>92</td>\n",
              "      <td>598</td>\n",
              "      <td>'Art Dealers '</td>\n",
              "      <td>[-0.020046919584274292, 0.007483547553420067, ...</td>\n",
              "      <td>0.778689</td>\n",
              "    </tr>\n",
              "    <tr>\n",
              "      <th>746</th>\n",
              "      <td>240</td>\n",
              "      <td>746</td>\n",
              "      <td>'Lessors of Nonfinancial Intangible Assets (ex...</td>\n",
              "      <td>[-0.013034641742706299, 0.002604610286653042, ...</td>\n",
              "      <td>0.775273</td>\n",
              "    </tr>\n",
              "    <tr>\n",
              "      <th>816</th>\n",
              "      <td>57</td>\n",
              "      <td>816</td>\n",
              "      <td>'Tour Operators'</td>\n",
              "      <td>[-0.005476837977766991, -0.012431024573743343,...</td>\n",
              "      <td>0.774437</td>\n",
              "    </tr>\n",
              "    <tr>\n",
              "      <th>177</th>\n",
              "      <td>177</td>\n",
              "      <td>177</td>\n",
              "      <td>'Wineries '</td>\n",
              "      <td>[0.000776544795371592, -0.01577918231487274, 0...</td>\n",
              "      <td>0.773720</td>\n",
              "    </tr>\n",
              "    <tr>\n",
              "      <th>688</th>\n",
              "      <td>182</td>\n",
              "      <td>688</td>\n",
              "      <td>'Monetary Authorities-Central Bank'</td>\n",
              "      <td>[-0.016640713438391685, -0.001703579444438219,...</td>\n",
              "      <td>0.773389</td>\n",
              "    </tr>\n",
              "  </tbody>\n",
              "</table>\n",
              "</div>\n",
              "      <button class=\"colab-df-convert\" onclick=\"convertToInteractive('df-39fb9d9b-9c9d-4ccd-92b4-327b458943c2')\"\n",
              "              title=\"Convert this dataframe to an interactive table.\"\n",
              "              style=\"display:none;\">\n",
              "        \n",
              "  <svg xmlns=\"http://www.w3.org/2000/svg\" height=\"24px\"viewBox=\"0 0 24 24\"\n",
              "       width=\"24px\">\n",
              "    <path d=\"M0 0h24v24H0V0z\" fill=\"none\"/>\n",
              "    <path d=\"M18.56 5.44l.94 2.06.94-2.06 2.06-.94-2.06-.94-.94-2.06-.94 2.06-2.06.94zm-11 1L8.5 8.5l.94-2.06 2.06-.94-2.06-.94L8.5 2.5l-.94 2.06-2.06.94zm10 10l.94 2.06.94-2.06 2.06-.94-2.06-.94-.94-2.06-.94 2.06-2.06.94z\"/><path d=\"M17.41 7.96l-1.37-1.37c-.4-.4-.92-.59-1.43-.59-.52 0-1.04.2-1.43.59L10.3 9.45l-7.72 7.72c-.78.78-.78 2.05 0 2.83L4 21.41c.39.39.9.59 1.41.59.51 0 1.02-.2 1.41-.59l7.78-7.78 2.81-2.81c.8-.78.8-2.07 0-2.86zM5.41 20L4 18.59l7.72-7.72 1.47 1.35L5.41 20z\"/>\n",
              "  </svg>\n",
              "      </button>\n",
              "      \n",
              "  <style>\n",
              "    .colab-df-container {\n",
              "      display:flex;\n",
              "      flex-wrap:wrap;\n",
              "      gap: 12px;\n",
              "    }\n",
              "\n",
              "    .colab-df-convert {\n",
              "      background-color: #E8F0FE;\n",
              "      border: none;\n",
              "      border-radius: 50%;\n",
              "      cursor: pointer;\n",
              "      display: none;\n",
              "      fill: #1967D2;\n",
              "      height: 32px;\n",
              "      padding: 0 0 0 0;\n",
              "      width: 32px;\n",
              "    }\n",
              "\n",
              "    .colab-df-convert:hover {\n",
              "      background-color: #E2EBFA;\n",
              "      box-shadow: 0px 1px 2px rgba(60, 64, 67, 0.3), 0px 1px 3px 1px rgba(60, 64, 67, 0.15);\n",
              "      fill: #174EA6;\n",
              "    }\n",
              "\n",
              "    [theme=dark] .colab-df-convert {\n",
              "      background-color: #3B4455;\n",
              "      fill: #D2E3FC;\n",
              "    }\n",
              "\n",
              "    [theme=dark] .colab-df-convert:hover {\n",
              "      background-color: #434B5C;\n",
              "      box-shadow: 0px 1px 3px 1px rgba(0, 0, 0, 0.15);\n",
              "      filter: drop-shadow(0px 1px 2px rgba(0, 0, 0, 0.3));\n",
              "      fill: #FFFFFF;\n",
              "    }\n",
              "  </style>\n",
              "\n",
              "      <script>\n",
              "        const buttonEl =\n",
              "          document.querySelector('#df-39fb9d9b-9c9d-4ccd-92b4-327b458943c2 button.colab-df-convert');\n",
              "        buttonEl.style.display =\n",
              "          google.colab.kernel.accessAllowed ? 'block' : 'none';\n",
              "\n",
              "        async function convertToInteractive(key) {\n",
              "          const element = document.querySelector('#df-39fb9d9b-9c9d-4ccd-92b4-327b458943c2');\n",
              "          const dataTable =\n",
              "            await google.colab.kernel.invokeFunction('convertToInteractive',\n",
              "                                                     [key], {});\n",
              "          if (!dataTable) return;\n",
              "\n",
              "          const docLinkHtml = 'Like what you see? Visit the ' +\n",
              "            '<a target=\"_blank\" href=https://colab.research.google.com/notebooks/data_table.ipynb>data table notebook</a>'\n",
              "            + ' to learn more about interactive tables.';\n",
              "          element.innerHTML = '';\n",
              "          dataTable['output_type'] = 'display_data';\n",
              "          await google.colab.output.renderOutput(dataTable, element);\n",
              "          const docLink = document.createElement('div');\n",
              "          docLink.innerHTML = docLinkHtml;\n",
              "          element.appendChild(docLink);\n",
              "        }\n",
              "      </script>\n",
              "    </div>\n",
              "  </div>\n",
              "  "
            ]
          },
          "metadata": {},
          "execution_count": 38
        }
      ]
    }
  ],
  "metadata": {
    "colab": {
      "provenance": [],
      "mount_file_id": "1d0-UZO1ymAnDXTdsJFxYkSv8Ix2-OWf-",
      "authorship_tag": "ABX9TyPP8YSrZHKKyp5IFZD2X4sy",
      "include_colab_link": true
    },
    "kernelspec": {
      "display_name": "Python 3",
      "name": "python3"
    },
    "language_info": {
      "name": "python"
    }
  },
  "nbformat": 4,
  "nbformat_minor": 0
}