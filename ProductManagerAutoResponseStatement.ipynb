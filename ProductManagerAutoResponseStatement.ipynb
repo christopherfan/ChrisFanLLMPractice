{
  "nbformat": 4,
  "nbformat_minor": 0,
  "metadata": {
    "colab": {
      "provenance": [],
      "authorship_tag": "ABX9TyN9tFpSerqrYjZ5dQ47Dkdl",
      "include_colab_link": true
    },
    "kernelspec": {
      "name": "python3",
      "display_name": "Python 3"
    },
    "language_info": {
      "name": "python"
    }
  },
  "cells": [
    {
      "cell_type": "markdown",
      "metadata": {
        "id": "view-in-github",
        "colab_type": "text"
      },
      "source": [
        "<a href=\"https://colab.research.google.com/github/christopherfan/ChrisFanLLMPractice/blob/main/ProductManagerAutoResponseStatement.ipynb\" target=\"_parent\"><img src=\"https://colab.research.google.com/assets/colab-badge.svg\" alt=\"Open In Colab\"/></a>"
      ]
    },
    {
      "cell_type": "markdown",
      "source": [
        "# AutoGenerate Example of \"Snarky\" Product Manager Responses to Team Requests\n",
        "\n",
        "Prompt simulates a Product Manager. We gather a list of departments the PM will work with like marketing, sales supports, and we simulate a list of Q/A statement interactions.\n",
        "\n",
        "---\n",
        "\n",
        "\n"
      ],
      "metadata": {
        "id": "OdQ0IFgRzj77"
      }
    },
    {
      "cell_type": "code",
      "execution_count": null,
      "metadata": {
        "id": "G5m-3RT5ywVM",
        "colab": {
          "base_uri": "https://localhost:8080/"
        },
        "outputId": "39e9078d-1ec6-4dd2-dba8-ed820c8cf615"
      },
      "outputs": [
        {
          "output_type": "stream",
          "name": "stdout",
          "text": [
            "\u001b[2K     \u001b[90m━━━━━━━━━━━━━━━━━━━━━━━━━━━━━━━━━━━━━━━━\u001b[0m \u001b[32m70.3/70.3 kB\u001b[0m \u001b[31m2.7 MB/s\u001b[0m eta \u001b[36m0:00:00\u001b[0m\n",
            "\u001b[2K     \u001b[90m━━━━━━━━━━━━━━━━━━━━━━━━━━━━━━━━━━━━━━━━\u001b[0m \u001b[32m1.0/1.0 MB\u001b[0m \u001b[31m19.5 MB/s\u001b[0m eta \u001b[36m0:00:00\u001b[0m\n",
            "\u001b[2K     \u001b[90m━━━━━━━━━━━━━━━━━━━━━━━━━━━━━━━━━━━━━━\u001b[0m \u001b[32m114.2/114.2 kB\u001b[0m \u001b[31m12.5 MB/s\u001b[0m eta \u001b[36m0:00:00\u001b[0m\n",
            "\u001b[2K     \u001b[90m━━━━━━━━━━━━━━━━━━━━━━━━━━━━━━━━━━━━━━━\u001b[0m \u001b[32m264.6/264.6 kB\u001b[0m \u001b[31m8.4 MB/s\u001b[0m eta \u001b[36m0:00:00\u001b[0m\n",
            "\u001b[2K     \u001b[90m━━━━━━━━━━━━━━━━━━━━━━━━━━━━━━━━━━━━━━\u001b[0m \u001b[32m158.8/158.8 kB\u001b[0m \u001b[31m16.2 MB/s\u001b[0m eta \u001b[36m0:00:00\u001b[0m\n",
            "\u001b[?25h"
          ]
        }
      ],
      "source": [
        "!pip install openai -q\n"
      ]
    },
    {
      "cell_type": "code",
      "source": [
        "!pip install langchain -q"
      ],
      "metadata": {
        "colab": {
          "base_uri": "https://localhost:8080/"
        },
        "id": "isbEYDPOz3Hm",
        "outputId": "c2e6d090-2e30-4b78-8314-aa2897915a44"
      },
      "execution_count": null,
      "outputs": [
        {
          "output_type": "stream",
          "name": "stdout",
          "text": [
            "\u001b[2K     \u001b[90m━━━━━━━━━━━━━━━━━━━━━━━━━━━━━━━━━━━━━━━\u001b[0m \u001b[32m520.7/520.7 kB\u001b[0m \u001b[31m8.6 MB/s\u001b[0m eta \u001b[36m0:00:00\u001b[0m\n",
            "\u001b[2K     \u001b[90m━━━━━━━━━━━━━━━━━━━━━━━━━━━━━━━━━━━━━━━━\u001b[0m \u001b[32m1.6/1.6 MB\u001b[0m \u001b[31m38.5 MB/s\u001b[0m eta \u001b[36m0:00:00\u001b[0m\n",
            "\u001b[2K     \u001b[90m━━━━━━━━━━━━━━━━━━━━━━━━━━━━━━━━━━━━━━━━\u001b[0m \u001b[32m90.0/90.0 kB\u001b[0m \u001b[31m9.7 MB/s\u001b[0m eta \u001b[36m0:00:00\u001b[0m\n",
            "\u001b[2K     \u001b[90m━━━━━━━━━━━━━━━━━━━━━━━━━━━━━━━━━━━━━━━━\u001b[0m \u001b[32m49.1/49.1 kB\u001b[0m \u001b[31m3.8 MB/s\u001b[0m eta \u001b[36m0:00:00\u001b[0m\n",
            "\u001b[?25h"
          ]
        }
      ]
    },
    {
      "cell_type": "code",
      "source": [
        "## Upload the stakeholders.py file to colab that has the 1) prompt and 2) examples of stakeholder requests types with descriptions used to populate the prompt\n",
        "\n",
        "https://drive.google.com/file/d/1TiHIHR7Bw8lexJs3zYQdzh-p3inJMw5I/view?usp=sharing"
      ],
      "metadata": {
        "id": "y6El6ia6PSdT"
      },
      "execution_count": null,
      "outputs": []
    },
    {
      "cell_type": "markdown",
      "source": [
        "# Import Dependencies"
      ],
      "metadata": {
        "id": "a-JfVptIz_Mu"
      }
    },
    {
      "cell_type": "code",
      "source": [
        "import  openai, langchain,langchain.prompts, langchain.chat_models, StakeholderRequests,csv, os, pdb\n"
      ],
      "metadata": {
        "id": "8GOMUyW-0BsV"
      },
      "execution_count": null,
      "outputs": []
    },
    {
      "cell_type": "code",
      "source": [
        "from langchain import OpenAI, LLMChain\n",
        "from langchain.prompts import PromptTemplate, FewShotPromptTemplate\n",
        "from langchain.chains import ConversationChain\n",
        "from getpass import getpass\n",
        "from langchain.chat_models import ChatOpenAI\n",
        "\n",
        "from langchain.prompts.chat import (\n",
        "    ChatPromptTemplate,\n",
        "    SystemMessagePromptTemplate,\n",
        "    AIMessagePromptTemplate,\n",
        "    HumanMessagePromptTemplate,\n",
        ")\n",
        "from langchain.memory import ConversationBufferMemory, ChatMessageHistory\n",
        "\n",
        "from StakeholderRequests import stakeholder_request_types, combined_prompt\n"
      ],
      "metadata": {
        "id": "s4jqXKfX0JA4"
      },
      "execution_count": null,
      "outputs": []
    },
    {
      "cell_type": "markdown",
      "source": [
        "Manually Set Open API Key. When you run this step, just manualy copy/paste your Open AI Key.\n",
        "\n",
        "See: https://help.openai.com/en/articles/4936850-where-do-i-find-my-secret-api-key\n",
        "\n",
        "Your free credits expire after 30 days and you have to add a credit card to use the API."
      ],
      "metadata": {
        "id": "KkXcLsla0cNJ"
      }
    },
    {
      "cell_type": "code",
      "source": [
        "openai.api_key = getpass()"
      ],
      "metadata": {
        "colab": {
          "base_uri": "https://localhost:8080/"
        },
        "id": "9avdYhHd0eZG",
        "outputId": "34ce4f55-0ee4-4348-cda5-18679f75496a"
      },
      "execution_count": null,
      "outputs": [
        {
          "name": "stdout",
          "output_type": "stream",
          "text": [
            "··········\n"
          ]
        }
      ]
    },
    {
      "cell_type": "markdown",
      "source": [
        "Initialize Large Language Model"
      ],
      "metadata": {
        "id": "hMMNgV2U0-zh"
      }
    },
    {
      "cell_type": "code",
      "source": [
        "chat_llm = ChatOpenAI(\n",
        "        temperature=0,\n",
        "        openai_api_key= openai.api_key,\n",
        "        model_name=\"gpt-3.5-turbo-0301\"\n",
        "        )"
      ],
      "metadata": {
        "id": "88vPdw181Bqf"
      },
      "execution_count": null,
      "outputs": []
    },
    {
      "cell_type": "code",
      "source": [
        "stakeholder_request_prompt = \"You work in a small software start-up as a product manager. As a product manager, you have many different types of stakeholders from different departments such as customer success, technical support, sales, marketing and engineering. They often request many different types of requests for you during the day that take time for you to respond. One such request is a {request_type} which can be defined as  {request_definition} \""
      ],
      "metadata": {
        "id": "48Qwh-Gx1hrZ"
      },
      "execution_count": null,
      "outputs": []
    },
    {
      "cell_type": "markdown",
      "source": [
        "## Set Prompt for User Message.\n",
        "\n",
        "We are loading this prompt from an uploaded file StakeholderRequests.py\n",
        "\n",
        "These following variables are inserted at the time the call is made\n",
        "\n",
        "\n",
        "*   {request_type}: The type of the request as defined in the StakeholderRequest block\n",
        "*   {request_definition}: The definition of the request\n",
        "*   {example_num}: The number of examples to genereate\n",
        "*   {dept_name}: Name of the deparment\n",
        "\n",
        "###Template:\n",
        "  \"You work in a small software start-up as a product manager. As a product manager, you have many different types of stakeholders from different departments such as customer success, technical support, sales, marketing and engineering. They often request many different types of requests for you during the day that take time for you to respond. \"\n",
        "\n",
        "\"One such request is a {request_type} which can be defined as {request_definition} \"\n",
        "\n",
        "\"Generate {example_num} brief examples from the {dept_name} department impersonating a member of that team. \"\n",
        "\n",
        "\"Use first person phrasing. Do not repeat examples. For each example, output the text in a paragraph block and separate each example with a new line. Do not add a prefix such as 'Example 1:' to the each answer. Simply output the answer.\"\n",
        "\n",
        "###Filled in Example\n",
        "\"You work in a small software start-up as a product manager. As a product manager, you have many different types of stakeholders from different departments such as customer success, technical support, sales, marketing and engineering. They often request many different types of requests for you during the day that take time for you to respond. One such request is a feature which can be defined as Stakeholders (customers, sales, customer success teams) may request new features or enhancements to existing ones that will improve user experience, address customer pain points, or help close new deals. Generate 2 brief examples from the marketing department impersonating a member of that team. Use first person phrasing. Do not repeat examples. For each example, output the text in a paragraph block and separate each example with a new line. Do not add a prefix such as 'Example 1:' to the each answer. Simply output the answer.\"\n",
        "\n",
        "\n",
        "\n",
        "\n",
        "\n",
        "\n",
        "\n",
        "\n"
      ],
      "metadata": {
        "id": "7wj1CNKY3kH3"
      }
    },
    {
      "cell_type": "code",
      "source": [
        "user_query = \"Imagine you are a member of {dept_name} and generate {example_num} brief examples. Use first person phrasing. Do not repeat examples. For each example, output the text in a paragraph block and separate each example with a new line. Do not add a prefix such as 'Example 1:' to the each answer. Simply output the answer.\""
      ],
      "metadata": {
        "id": "3ExEJ7m-3lo-"
      },
      "execution_count": null,
      "outputs": []
    },
    {
      "cell_type": "code",
      "source": [
        "combined_prompt = \"You work in a small software start-up as a product manager. As a product manager, you have many different types of stakeholders from different departments such as customer success, technical support, sales, marketing and engineering. They often request many different types of requests for you during the day that take time for you to respond. One such request is a {request_type} which can be defined as {request_definition} Generate {example_num} brief examples from the {dept_name} department impersonating a member of that team. Use first person phrasing. Do not repeat examples. For each example, output the text in a paragraph block and separate each example with a new line. Do not add a prefix such as 'Example 1:' to the each answer. Simply output the answer.\""
      ],
      "metadata": {
        "id": "rF81eHWxcrIJ"
      },
      "execution_count": null,
      "outputs": []
    },
    {
      "cell_type": "markdown",
      "source": [
        "## Construct the System and Human Templates using the langchain template Creation\n",
        "\n",
        "We are using the Langchain library to generate prompt templates. The tutorials are here https://python.langchain.com/en/latest/modules/prompts/prompt_templates/getting_started.html"
      ],
      "metadata": {
        "id": "7_E-RljF54ik"
      }
    },
    {
      "cell_type": "code",
      "source": [
        "human_message_prompt2 = HumanMessagePromptTemplate(\n",
        "    prompt=PromptTemplate(\n",
        "        template = combined_prompt,\n",
        "        input_variables= [\"dept_name\", \"example_num\", \"request_type\",\"request_definition\"],\n",
        "        )\n",
        ")\n",
        "\n",
        "new_csv_prompt = HumanMessagePromptTemplate(\n",
        "    prompt = PromptTemplate(\n",
        "    template = StakeholderRequests.combined_prompt,\n",
        "    input_variables = [\"dept_name\", \"example_num\", \"request_type\",\"request_definition\"],\n",
        "    )\n",
        ")\n"
      ],
      "metadata": {
        "id": "29bS98di59QT"
      },
      "execution_count": null,
      "outputs": []
    },
    {
      "cell_type": "code",
      "source": [
        "# Debugging code to see the full prompt\n",
        "example_num = \"2\"\n",
        "dept_name = \"marketing\"\n",
        "request_type = StakeholderRequests.stakeholder_request_types[0]['request_type']\n",
        "request_definition = StakeholderRequests.stakeholder_request_types[0]['definition']\n",
        "\n",
        "print (new_csv_prompt.format(example_num= example_num, dept_name = dept_name, request_type = request_type, request_definition=request_definition))"
      ],
      "metadata": {
        "colab": {
          "base_uri": "https://localhost:8080/"
        },
        "id": "UIMvdIIpFuQU",
        "outputId": "62c3cc6e-946a-4372-dc62-898dbe8e3f71"
      },
      "execution_count": null,
      "outputs": [
        {
          "output_type": "stream",
          "name": "stdout",
          "text": [
            "content=\"You work in a small software start-up as a product manager. As a product manager, you have many different types of stakeholders from different departments such as customer success, technical support, sales, marketing and engineering. They often request many different types of requests for you during the day that take time for you to respond. One such request is a feature which can be defined as Stakeholders (customers, sales, customer success teams) may request new features or enhancements to existing ones that will improve user experience, address customer pain points, or help close new deals. Generate 2 brief examples from the marketing department impersonating a member of that team. Use first person phrasing. Do not repeat examples. For each example, output the text in a paragraph block and separate each example with a new line. Do not add a prefix such as 'Example 1:' to the each answer. Simply output the answer.\" additional_kwargs={}\n"
          ]
        }
      ]
    },
    {
      "cell_type": "markdown",
      "source": [
        "Construct the full chat prompt template combining the System and User Inputs\n",
        "[link text](https://)"
      ],
      "metadata": {
        "id": "YUZyOGv26YQE"
      }
    },
    {
      "cell_type": "code",
      "source": [
        "# construct the full chat Prompt Template\n",
        "#chat_prompt = ChatPromptTemplate.from_messages([system_message_prompt, human_message_prompt])\n",
        "\n",
        "chat_prompt = ChatPromptTemplate.from_messages([new_csv_prompt])\n",
        "\n"
      ],
      "metadata": {
        "id": "2BFuCzs26eBz"
      },
      "execution_count": null,
      "outputs": []
    },
    {
      "cell_type": "markdown",
      "source": [
        "## Manually generate the examples via the prompt"
      ],
      "metadata": {
        "id": "Ka4Hy6lVbL9K"
      }
    },
    {
      "cell_type": "code",
      "source": [
        "# Create a helper function that takes inputs a) llm_array and ouputs to a b)CSV file name\n",
        "\n",
        "def chatToCSV( llm_array, csv_filename, department, request_type):\n",
        "\n",
        "# extract newlines and create an array value\n",
        "\n",
        "  output_array = []\n",
        "  lines = llm_array.split(\"\\n\")\n",
        "\n",
        "  for line in lines:\n",
        "    if line != \"\":\n",
        "      output_array.append([request_type,department,line])\n",
        "\n",
        "# Output to .csv file\n",
        "  isNewFile = False\n",
        "  csv_file = csv_filename\n",
        "  if not os.path.exists(csv_file):\n",
        "    isNewFile = True\n",
        "\n",
        "\n",
        "  with open(csv_file, \"a\", newline=\"\") as file:\n",
        "    writer = csv.writer(file)\n",
        "    if isNewFile == True:\n",
        "        writer.writerow(['request_type','department','request'])\n",
        "    for row in output_array:\n",
        "      writer.writerow(row)\n",
        "\n"
      ],
      "metadata": {
        "id": "NgFTQp3seIu6"
      },
      "execution_count": null,
      "outputs": []
    },
    {
      "cell_type": "code",
      "source": [
        "# Create the Chain\n",
        "chain = LLMChain(\n",
        "    llm=chat_llm,\n",
        "    prompt=chat_prompt,\n",
        "    verbose=True,\n",
        "    )\n",
        "\n",
        "request_type = StakeholderRequests.stakeholder_request_types[2]['request_type']\n",
        "request_definition = StakeholderRequests.stakeholder_request_types[2]['definition']\n",
        "\n",
        "department = \"Technical Support\"\n",
        "example_num = \"2\"\n",
        "\n",
        "example_value = chain.run(request_type = request_type, request_definition=request_definition,dept_name= department, example_num = example_num)\n",
        "\n",
        "print (example_value)\n"
      ],
      "metadata": {
        "colab": {
          "base_uri": "https://localhost:8080/"
        },
        "id": "_EezKcpnbUO-",
        "outputId": "efbc1cd5-5d97-4410-f6d3-58e6b9dfa152"
      },
      "execution_count": null,
      "outputs": [
        {
          "output_type": "stream",
          "name": "stdout",
          "text": [
            "\n",
            "\n",
            "\u001b[1m> Entering new LLMChain chain...\u001b[0m\n",
            "Prompt after formatting:\n",
            "\u001b[32;1m\u001b[1;3mHuman: You work in a small software start-up as a product manager. As a product manager, you have many different types of stakeholders from different departments such as customer success, technical support, sales, marketing and engineering. They often request many different types of requests for you during the day that take time for you to respond. One such request is a Prioritization Discussions which can be defined as Stakeholders may request meetings to discuss and align on the product roadmap or prioritize specific features, bugs, or improvements based on business goals, customer needs, and resource availability. Generate 2 brief examples from the Technical Support department impersonating a member of that team. Use first person phrasing. Do not repeat examples. For each example, output the text in a paragraph block and separate each example with a new line. Do not add a prefix such as 'Example 1:' to the each answer. Simply output the answer.\u001b[0m\n",
            "\n",
            "\u001b[1m> Finished chain.\u001b[0m\n",
            "I'm from the Technical Support department and I would like to request a prioritization discussion regarding the bug reports we've been receiving from our customers. We've noticed an increase in the number of reports related to a specific feature and we believe it's affecting the overall user experience. We would like to discuss the severity of the issue and prioritize it accordingly in the product roadmap. We also have some suggestions on how to address the issue and we would like to share them with the rest of the stakeholders.\n",
            "\n",
            "As a member of the Technical Support department, I would like to request a prioritization discussion regarding the integration of a new tool that we believe will improve our customer support process. We've been testing the tool and we've seen a significant improvement in our response time and customer satisfaction. We believe that integrating this tool into our product will benefit not only our customers but also our team. We would like to discuss the feasibility of the integration and prioritize it accordingly in the product roadmap. We also have some data and insights that we would like to share with the rest of the stakeholders.\n"
          ]
        }
      ]
    },
    {
      "cell_type": "code",
      "source": [
        "chatToCSV(example_value, \"StakeholderRequests.csv\",department, request_type)\n"
      ],
      "metadata": {
        "id": "qLk2X1-vhyCf"
      },
      "execution_count": null,
      "outputs": []
    },
    {
      "cell_type": "code",
      "source": [
        "### Loop through the 10 example types\n",
        "\n",
        "chain = LLMChain(\n",
        "    llm=chat_llm,\n",
        "    prompt=chat_prompt,\n",
        "    verbose=True,\n",
        "    )\n",
        "\n",
        "department = \"Sales\"\n",
        "example_num = \"1\"\n",
        "\n",
        "Stakeholder_Type_Array = StakeholderRequests.stakeholder_request_types\n",
        "\n",
        "for item in Stakeholder_Type_Array:\n",
        "  request_type = item['request_type']\n",
        "  request_definition = item['definition']\n",
        "  gpt_prompt =  chat_prompt.format(request_type = request_type, request_definition=request_definition,dept_name= department, example_num = example_num)\n",
        "  #example_value = chain.run(request_type = request_type, request_definition=request_definition,dept_name= department, example_num = example_num)\n",
        "  print (f\"request type {request_type} \\n {gpt_prompt}\")\n",
        "  pdb.set_trace()\n",
        "  #chatToCSV(example_value, \"StakeholderRequests.csv\",department, request_type)\n",
        "\n",
        "\n"
      ],
      "metadata": {
        "colab": {
          "base_uri": "https://localhost:8080/"
        },
        "id": "t_IKvPfVOl4i",
        "outputId": "83dc08fe-4e31-49d7-8615-a24bc18a1254"
      },
      "execution_count": null,
      "outputs": [
        {
          "name": "stdout",
          "output_type": "stream",
          "text": [
            "request type feature \n",
            " Human: You work in a small software start-up as a product manager. As a product manager, you have many different types of stakeholders from different departments such as customer success, technical support, sales, marketing and engineering. They often request many different types of requests for you during the day that take time for you to respond. One such request is a feature which can be defined as Stakeholders (customers, sales, customer success teams) may request new features or enhancements to existing ones that will improve user experience, address customer pain points, or help close new deals. Generate 1 brief examples from the Sales department impersonating a member of that team. Use first person phrasing. Do not repeat examples. For each example, output the text in a paragraph block and separate each example with a new line. Do not add a prefix such as 'Example 1:' to the each answer. Simply output the answer.\n",
            "> \u001b[0;32m<ipython-input-17-01046bad0cf0>\u001b[0m(14)\u001b[0;36m<cell line: 14>\u001b[0;34m()\u001b[0m\n",
            "\u001b[0;32m     12 \u001b[0;31m\u001b[0mStakeholder_Type_Array\u001b[0m \u001b[0;34m=\u001b[0m \u001b[0mStakeholderRequests\u001b[0m\u001b[0;34m.\u001b[0m\u001b[0mstakeholder_request_types\u001b[0m\u001b[0;34m\u001b[0m\u001b[0;34m\u001b[0m\u001b[0m\n",
            "\u001b[0m\u001b[0;32m     13 \u001b[0;31m\u001b[0;34m\u001b[0m\u001b[0m\n",
            "\u001b[0m\u001b[0;32m---> 14 \u001b[0;31m\u001b[0;32mfor\u001b[0m \u001b[0mitem\u001b[0m \u001b[0;32min\u001b[0m \u001b[0mStakeholder_Type_Array\u001b[0m\u001b[0;34m:\u001b[0m\u001b[0;34m\u001b[0m\u001b[0;34m\u001b[0m\u001b[0m\n",
            "\u001b[0m\u001b[0;32m     15 \u001b[0;31m  \u001b[0mrequest_type\u001b[0m \u001b[0;34m=\u001b[0m \u001b[0mitem\u001b[0m\u001b[0;34m[\u001b[0m\u001b[0;34m'request_type'\u001b[0m\u001b[0;34m]\u001b[0m\u001b[0;34m\u001b[0m\u001b[0;34m\u001b[0m\u001b[0m\n",
            "\u001b[0m\u001b[0;32m     16 \u001b[0;31m  \u001b[0mrequest_definition\u001b[0m \u001b[0;34m=\u001b[0m \u001b[0mitem\u001b[0m\u001b[0;34m[\u001b[0m\u001b[0;34m'definition'\u001b[0m\u001b[0;34m]\u001b[0m\u001b[0;34m\u001b[0m\u001b[0;34m\u001b[0m\u001b[0m\n",
            "\u001b[0m\n",
            "ipdb> c\n",
            "request type Bug Reports \n",
            " Human: You work in a small software start-up as a product manager. As a product manager, you have many different types of stakeholders from different departments such as customer success, technical support, sales, marketing and engineering. They often request many different types of requests for you during the day that take time for you to respond. One such request is a Bug Reports which can be defined as Engineering teams, QA, or customers might report software bugs or issues that need to be prioritized and fixed. Generate 1 brief examples from the Sales department impersonating a member of that team. Use first person phrasing. Do not repeat examples. For each example, output the text in a paragraph block and separate each example with a new line. Do not add a prefix such as 'Example 1:' to the each answer. Simply output the answer.\n",
            "> \u001b[0;32m<ipython-input-17-01046bad0cf0>\u001b[0m(14)\u001b[0;36m<cell line: 14>\u001b[0;34m()\u001b[0m\n",
            "\u001b[0;32m     12 \u001b[0;31m\u001b[0mStakeholder_Type_Array\u001b[0m \u001b[0;34m=\u001b[0m \u001b[0mStakeholderRequests\u001b[0m\u001b[0;34m.\u001b[0m\u001b[0mstakeholder_request_types\u001b[0m\u001b[0;34m\u001b[0m\u001b[0;34m\u001b[0m\u001b[0m\n",
            "\u001b[0m\u001b[0;32m     13 \u001b[0;31m\u001b[0;34m\u001b[0m\u001b[0m\n",
            "\u001b[0m\u001b[0;32m---> 14 \u001b[0;31m\u001b[0;32mfor\u001b[0m \u001b[0mitem\u001b[0m \u001b[0;32min\u001b[0m \u001b[0mStakeholder_Type_Array\u001b[0m\u001b[0;34m:\u001b[0m\u001b[0;34m\u001b[0m\u001b[0;34m\u001b[0m\u001b[0m\n",
            "\u001b[0m\u001b[0;32m     15 \u001b[0;31m  \u001b[0mrequest_type\u001b[0m \u001b[0;34m=\u001b[0m \u001b[0mitem\u001b[0m\u001b[0;34m[\u001b[0m\u001b[0;34m'request_type'\u001b[0m\u001b[0;34m]\u001b[0m\u001b[0;34m\u001b[0m\u001b[0;34m\u001b[0m\u001b[0m\n",
            "\u001b[0m\u001b[0;32m     16 \u001b[0;31m  \u001b[0mrequest_definition\u001b[0m \u001b[0;34m=\u001b[0m \u001b[0mitem\u001b[0m\u001b[0;34m[\u001b[0m\u001b[0;34m'definition'\u001b[0m\u001b[0;34m]\u001b[0m\u001b[0;34m\u001b[0m\u001b[0;34m\u001b[0m\u001b[0m\n",
            "\u001b[0m\n",
            "ipdb> c\n",
            "request type Prioritization Discussions \n",
            " Human: You work in a small software start-up as a product manager. As a product manager, you have many different types of stakeholders from different departments such as customer success, technical support, sales, marketing and engineering. They often request many different types of requests for you during the day that take time for you to respond. One such request is a Prioritization Discussions which can be defined as Stakeholders may request meetings to discuss and align on the product roadmap or prioritize specific features, bugs, or improvements based on business goals, customer needs, and resource availability. Generate 1 brief examples from the Sales department impersonating a member of that team. Use first person phrasing. Do not repeat examples. For each example, output the text in a paragraph block and separate each example with a new line. Do not add a prefix such as 'Example 1:' to the each answer. Simply output the answer.\n",
            "> \u001b[0;32m<ipython-input-17-01046bad0cf0>\u001b[0m(14)\u001b[0;36m<cell line: 14>\u001b[0;34m()\u001b[0m\n",
            "\u001b[0;32m     12 \u001b[0;31m\u001b[0mStakeholder_Type_Array\u001b[0m \u001b[0;34m=\u001b[0m \u001b[0mStakeholderRequests\u001b[0m\u001b[0;34m.\u001b[0m\u001b[0mstakeholder_request_types\u001b[0m\u001b[0;34m\u001b[0m\u001b[0;34m\u001b[0m\u001b[0m\n",
            "\u001b[0m\u001b[0;32m     13 \u001b[0;31m\u001b[0;34m\u001b[0m\u001b[0m\n",
            "\u001b[0m\u001b[0;32m---> 14 \u001b[0;31m\u001b[0;32mfor\u001b[0m \u001b[0mitem\u001b[0m \u001b[0;32min\u001b[0m \u001b[0mStakeholder_Type_Array\u001b[0m\u001b[0;34m:\u001b[0m\u001b[0;34m\u001b[0m\u001b[0;34m\u001b[0m\u001b[0m\n",
            "\u001b[0m\u001b[0;32m     15 \u001b[0;31m  \u001b[0mrequest_type\u001b[0m \u001b[0;34m=\u001b[0m \u001b[0mitem\u001b[0m\u001b[0;34m[\u001b[0m\u001b[0;34m'request_type'\u001b[0m\u001b[0;34m]\u001b[0m\u001b[0;34m\u001b[0m\u001b[0;34m\u001b[0m\u001b[0m\n",
            "\u001b[0m\u001b[0;32m     16 \u001b[0;31m  \u001b[0mrequest_definition\u001b[0m \u001b[0;34m=\u001b[0m \u001b[0mitem\u001b[0m\u001b[0;34m[\u001b[0m\u001b[0;34m'definition'\u001b[0m\u001b[0;34m]\u001b[0m\u001b[0;34m\u001b[0m\u001b[0;34m\u001b[0m\u001b[0m\n",
            "\u001b[0m\n",
            "ipdb> c\n",
            "request type Data and analytics \n",
            " Human: You work in a small software start-up as a product manager. As a product manager, you have many different types of stakeholders from different departments such as customer success, technical support, sales, marketing and engineering. They often request many different types of requests for you during the day that take time for you to respond. One such request is a Data and analytics which can be defined as Stakeholders may request data or insights about product usage, feature adoption, or user behavior to make data-driven decisions or improve customer support. Generate 1 brief examples from the Sales department impersonating a member of that team. Use first person phrasing. Do not repeat examples. For each example, output the text in a paragraph block and separate each example with a new line. Do not add a prefix such as 'Example 1:' to the each answer. Simply output the answer.\n",
            "> \u001b[0;32m<ipython-input-17-01046bad0cf0>\u001b[0m(14)\u001b[0;36m<cell line: 14>\u001b[0;34m()\u001b[0m\n",
            "\u001b[0;32m     12 \u001b[0;31m\u001b[0mStakeholder_Type_Array\u001b[0m \u001b[0;34m=\u001b[0m \u001b[0mStakeholderRequests\u001b[0m\u001b[0;34m.\u001b[0m\u001b[0mstakeholder_request_types\u001b[0m\u001b[0;34m\u001b[0m\u001b[0;34m\u001b[0m\u001b[0m\n",
            "\u001b[0m\u001b[0;32m     13 \u001b[0;31m\u001b[0;34m\u001b[0m\u001b[0m\n",
            "\u001b[0m\u001b[0;32m---> 14 \u001b[0;31m\u001b[0;32mfor\u001b[0m \u001b[0mitem\u001b[0m \u001b[0;32min\u001b[0m \u001b[0mStakeholder_Type_Array\u001b[0m\u001b[0;34m:\u001b[0m\u001b[0;34m\u001b[0m\u001b[0;34m\u001b[0m\u001b[0m\n",
            "\u001b[0m\u001b[0;32m     15 \u001b[0;31m  \u001b[0mrequest_type\u001b[0m \u001b[0;34m=\u001b[0m \u001b[0mitem\u001b[0m\u001b[0;34m[\u001b[0m\u001b[0;34m'request_type'\u001b[0m\u001b[0;34m]\u001b[0m\u001b[0;34m\u001b[0m\u001b[0;34m\u001b[0m\u001b[0m\n",
            "\u001b[0m\u001b[0;32m     16 \u001b[0;31m  \u001b[0mrequest_definition\u001b[0m \u001b[0;34m=\u001b[0m \u001b[0mitem\u001b[0m\u001b[0;34m[\u001b[0m\u001b[0;34m'definition'\u001b[0m\u001b[0;34m]\u001b[0m\u001b[0;34m\u001b[0m\u001b[0;34m\u001b[0m\u001b[0m\n",
            "\u001b[0m\n",
            "ipdb> c\n",
            "request type Competitor analysis \n",
            " Human: You work in a small software start-up as a product manager. As a product manager, you have many different types of stakeholders from different departments such as customer success, technical support, sales, marketing and engineering. They often request many different types of requests for you during the day that take time for you to respond. One such request is a Competitor analysis which can be defined as Stakeholders may request information on competitor products or market trends to understand the competitive landscape and identify opportunities for differentiation or innovation. Generate 1 brief examples from the Sales department impersonating a member of that team. Use first person phrasing. Do not repeat examples. For each example, output the text in a paragraph block and separate each example with a new line. Do not add a prefix such as 'Example 1:' to the each answer. Simply output the answer.\n",
            "> \u001b[0;32m<ipython-input-17-01046bad0cf0>\u001b[0m(14)\u001b[0;36m<cell line: 14>\u001b[0;34m()\u001b[0m\n",
            "\u001b[0;32m     12 \u001b[0;31m\u001b[0mStakeholder_Type_Array\u001b[0m \u001b[0;34m=\u001b[0m \u001b[0mStakeholderRequests\u001b[0m\u001b[0;34m.\u001b[0m\u001b[0mstakeholder_request_types\u001b[0m\u001b[0;34m\u001b[0m\u001b[0;34m\u001b[0m\u001b[0m\n",
            "\u001b[0m\u001b[0;32m     13 \u001b[0;31m\u001b[0;34m\u001b[0m\u001b[0m\n",
            "\u001b[0m\u001b[0;32m---> 14 \u001b[0;31m\u001b[0;32mfor\u001b[0m \u001b[0mitem\u001b[0m \u001b[0;32min\u001b[0m \u001b[0mStakeholder_Type_Array\u001b[0m\u001b[0;34m:\u001b[0m\u001b[0;34m\u001b[0m\u001b[0;34m\u001b[0m\u001b[0m\n",
            "\u001b[0m\u001b[0;32m     15 \u001b[0;31m  \u001b[0mrequest_type\u001b[0m \u001b[0;34m=\u001b[0m \u001b[0mitem\u001b[0m\u001b[0;34m[\u001b[0m\u001b[0;34m'request_type'\u001b[0m\u001b[0;34m]\u001b[0m\u001b[0;34m\u001b[0m\u001b[0;34m\u001b[0m\u001b[0m\n",
            "\u001b[0m\u001b[0;32m     16 \u001b[0;31m  \u001b[0mrequest_definition\u001b[0m \u001b[0;34m=\u001b[0m \u001b[0mitem\u001b[0m\u001b[0;34m[\u001b[0m\u001b[0;34m'definition'\u001b[0m\u001b[0;34m]\u001b[0m\u001b[0;34m\u001b[0m\u001b[0;34m\u001b[0m\u001b[0m\n",
            "\u001b[0m\n",
            "ipdb> c\n",
            "request type Sales enablement \n",
            " Human: You work in a small software start-up as a product manager. As a product manager, you have many different types of stakeholders from different departments such as customer success, technical support, sales, marketing and engineering. They often request many different types of requests for you during the day that take time for you to respond. One such request is a Sales enablement which can be defined as The sales team may request collateral, demos, or training materials to help them sell the product more effectively to potential customers. Generate 1 brief examples from the Sales department impersonating a member of that team. Use first person phrasing. Do not repeat examples. For each example, output the text in a paragraph block and separate each example with a new line. Do not add a prefix such as 'Example 1:' to the each answer. Simply output the answer.\n",
            "> \u001b[0;32m<ipython-input-17-01046bad0cf0>\u001b[0m(14)\u001b[0;36m<cell line: 14>\u001b[0;34m()\u001b[0m\n",
            "\u001b[0;32m     12 \u001b[0;31m\u001b[0mStakeholder_Type_Array\u001b[0m \u001b[0;34m=\u001b[0m \u001b[0mStakeholderRequests\u001b[0m\u001b[0;34m.\u001b[0m\u001b[0mstakeholder_request_types\u001b[0m\u001b[0;34m\u001b[0m\u001b[0;34m\u001b[0m\u001b[0m\n",
            "\u001b[0m\u001b[0;32m     13 \u001b[0;31m\u001b[0;34m\u001b[0m\u001b[0m\n",
            "\u001b[0m\u001b[0;32m---> 14 \u001b[0;31m\u001b[0;32mfor\u001b[0m \u001b[0mitem\u001b[0m \u001b[0;32min\u001b[0m \u001b[0mStakeholder_Type_Array\u001b[0m\u001b[0;34m:\u001b[0m\u001b[0;34m\u001b[0m\u001b[0;34m\u001b[0m\u001b[0m\n",
            "\u001b[0m\u001b[0;32m     15 \u001b[0;31m  \u001b[0mrequest_type\u001b[0m \u001b[0;34m=\u001b[0m \u001b[0mitem\u001b[0m\u001b[0;34m[\u001b[0m\u001b[0;34m'request_type'\u001b[0m\u001b[0;34m]\u001b[0m\u001b[0;34m\u001b[0m\u001b[0;34m\u001b[0m\u001b[0m\n",
            "\u001b[0m\u001b[0;32m     16 \u001b[0;31m  \u001b[0mrequest_definition\u001b[0m \u001b[0;34m=\u001b[0m \u001b[0mitem\u001b[0m\u001b[0;34m[\u001b[0m\u001b[0;34m'definition'\u001b[0m\u001b[0;34m]\u001b[0m\u001b[0;34m\u001b[0m\u001b[0;34m\u001b[0m\u001b[0m\n",
            "\u001b[0m\n",
            "ipdb> c\n",
            "request type Customer feedback \n",
            " Human: You work in a small software start-up as a product manager. As a product manager, you have many different types of stakeholders from different departments such as customer success, technical support, sales, marketing and engineering. They often request many different types of requests for you during the day that take time for you to respond. One such request is a Customer feedback which can be defined as Customer success and support teams may share customer feedback, concerns, or feature requests to help inform product decisions and improve the overall user experience. Generate 1 brief examples from the Sales department impersonating a member of that team. Use first person phrasing. Do not repeat examples. For each example, output the text in a paragraph block and separate each example with a new line. Do not add a prefix such as 'Example 1:' to the each answer. Simply output the answer.\n",
            "> \u001b[0;32m<ipython-input-17-01046bad0cf0>\u001b[0m(14)\u001b[0;36m<cell line: 14>\u001b[0;34m()\u001b[0m\n",
            "\u001b[0;32m     12 \u001b[0;31m\u001b[0mStakeholder_Type_Array\u001b[0m \u001b[0;34m=\u001b[0m \u001b[0mStakeholderRequests\u001b[0m\u001b[0;34m.\u001b[0m\u001b[0mstakeholder_request_types\u001b[0m\u001b[0;34m\u001b[0m\u001b[0;34m\u001b[0m\u001b[0m\n",
            "\u001b[0m\u001b[0;32m     13 \u001b[0;31m\u001b[0;34m\u001b[0m\u001b[0m\n",
            "\u001b[0m\u001b[0;32m---> 14 \u001b[0;31m\u001b[0;32mfor\u001b[0m \u001b[0mitem\u001b[0m \u001b[0;32min\u001b[0m \u001b[0mStakeholder_Type_Array\u001b[0m\u001b[0;34m:\u001b[0m\u001b[0;34m\u001b[0m\u001b[0;34m\u001b[0m\u001b[0m\n",
            "\u001b[0m\u001b[0;32m     15 \u001b[0;31m  \u001b[0mrequest_type\u001b[0m \u001b[0;34m=\u001b[0m \u001b[0mitem\u001b[0m\u001b[0;34m[\u001b[0m\u001b[0;34m'request_type'\u001b[0m\u001b[0;34m]\u001b[0m\u001b[0;34m\u001b[0m\u001b[0;34m\u001b[0m\u001b[0m\n",
            "\u001b[0m\u001b[0;32m     16 \u001b[0;31m  \u001b[0mrequest_definition\u001b[0m \u001b[0;34m=\u001b[0m \u001b[0mitem\u001b[0m\u001b[0;34m[\u001b[0m\u001b[0;34m'definition'\u001b[0m\u001b[0;34m]\u001b[0m\u001b[0;34m\u001b[0m\u001b[0;34m\u001b[0m\u001b[0m\n",
            "\u001b[0m\n",
            "ipdb> c\n",
            "request type Internal tool requests \n",
            " Human: You work in a small software start-up as a product manager. As a product manager, you have many different types of stakeholders from different departments such as customer success, technical support, sales, marketing and engineering. They often request many different types of requests for you during the day that take time for you to respond. One such request is a Internal tool requests which can be defined as Stakeholders may request improvements to internal tools or systems used to develop, deploy, or manage the product. Generate 1 brief examples from the Sales department impersonating a member of that team. Use first person phrasing. Do not repeat examples. For each example, output the text in a paragraph block and separate each example with a new line. Do not add a prefix such as 'Example 1:' to the each answer. Simply output the answer.\n",
            "> \u001b[0;32m<ipython-input-17-01046bad0cf0>\u001b[0m(14)\u001b[0;36m<cell line: 14>\u001b[0;34m()\u001b[0m\n",
            "\u001b[0;32m     12 \u001b[0;31m\u001b[0mStakeholder_Type_Array\u001b[0m \u001b[0;34m=\u001b[0m \u001b[0mStakeholderRequests\u001b[0m\u001b[0;34m.\u001b[0m\u001b[0mstakeholder_request_types\u001b[0m\u001b[0;34m\u001b[0m\u001b[0;34m\u001b[0m\u001b[0m\n",
            "\u001b[0m\u001b[0;32m     13 \u001b[0;31m\u001b[0;34m\u001b[0m\u001b[0m\n",
            "\u001b[0m\u001b[0;32m---> 14 \u001b[0;31m\u001b[0;32mfor\u001b[0m \u001b[0mitem\u001b[0m \u001b[0;32min\u001b[0m \u001b[0mStakeholder_Type_Array\u001b[0m\u001b[0;34m:\u001b[0m\u001b[0;34m\u001b[0m\u001b[0;34m\u001b[0m\u001b[0m\n",
            "\u001b[0m\u001b[0;32m     15 \u001b[0;31m  \u001b[0mrequest_type\u001b[0m \u001b[0;34m=\u001b[0m \u001b[0mitem\u001b[0m\u001b[0;34m[\u001b[0m\u001b[0;34m'request_type'\u001b[0m\u001b[0;34m]\u001b[0m\u001b[0;34m\u001b[0m\u001b[0;34m\u001b[0m\u001b[0m\n",
            "\u001b[0m\u001b[0;32m     16 \u001b[0;31m  \u001b[0mrequest_definition\u001b[0m \u001b[0;34m=\u001b[0m \u001b[0mitem\u001b[0m\u001b[0;34m[\u001b[0m\u001b[0;34m'definition'\u001b[0m\u001b[0;34m]\u001b[0m\u001b[0;34m\u001b[0m\u001b[0;34m\u001b[0m\u001b[0m\n",
            "\u001b[0m\n",
            "ipdb> c\n",
            "request type Budget and resource allocation \n",
            " Human: You work in a small software start-up as a product manager. As a product manager, you have many different types of stakeholders from different departments such as customer success, technical support, sales, marketing and engineering. They often request many different types of requests for you during the day that take time for you to respond. One such request is a Budget and resource allocation which can be defined as Executives or finance teams may request updates on product development costs, resource allocation, or ROI analysis to inform budgeting decisions. Generate 1 brief examples from the Sales department impersonating a member of that team. Use first person phrasing. Do not repeat examples. For each example, output the text in a paragraph block and separate each example with a new line. Do not add a prefix such as 'Example 1:' to the each answer. Simply output the answer.\n",
            "> \u001b[0;32m<ipython-input-17-01046bad0cf0>\u001b[0m(14)\u001b[0;36m<cell line: 14>\u001b[0;34m()\u001b[0m\n",
            "\u001b[0;32m     12 \u001b[0;31m\u001b[0mStakeholder_Type_Array\u001b[0m \u001b[0;34m=\u001b[0m \u001b[0mStakeholderRequests\u001b[0m\u001b[0;34m.\u001b[0m\u001b[0mstakeholder_request_types\u001b[0m\u001b[0;34m\u001b[0m\u001b[0;34m\u001b[0m\u001b[0m\n",
            "\u001b[0m\u001b[0;32m     13 \u001b[0;31m\u001b[0;34m\u001b[0m\u001b[0m\n",
            "\u001b[0m\u001b[0;32m---> 14 \u001b[0;31m\u001b[0;32mfor\u001b[0m \u001b[0mitem\u001b[0m \u001b[0;32min\u001b[0m \u001b[0mStakeholder_Type_Array\u001b[0m\u001b[0;34m:\u001b[0m\u001b[0;34m\u001b[0m\u001b[0;34m\u001b[0m\u001b[0m\n",
            "\u001b[0m\u001b[0;32m     15 \u001b[0;31m  \u001b[0mrequest_type\u001b[0m \u001b[0;34m=\u001b[0m \u001b[0mitem\u001b[0m\u001b[0;34m[\u001b[0m\u001b[0;34m'request_type'\u001b[0m\u001b[0;34m]\u001b[0m\u001b[0;34m\u001b[0m\u001b[0;34m\u001b[0m\u001b[0m\n",
            "\u001b[0m\u001b[0;32m     16 \u001b[0;31m  \u001b[0mrequest_definition\u001b[0m \u001b[0;34m=\u001b[0m \u001b[0mitem\u001b[0m\u001b[0;34m[\u001b[0m\u001b[0;34m'definition'\u001b[0m\u001b[0;34m]\u001b[0m\u001b[0;34m\u001b[0m\u001b[0;34m\u001b[0m\u001b[0m\n",
            "\u001b[0m\n",
            "ipdb> c\n",
            "request type Technical support \n",
            " Human: You work in a small software start-up as a product manager. As a product manager, you have many different types of stakeholders from different departments such as customer success, technical support, sales, marketing and engineering. They often request many different types of requests for you during the day that take time for you to respond. One such request is a Technical support which can be defined as Stakeholder teams may request assistance with issues related to product deployment, infrastructure, or integrations or troublehsoot problems. Generate 1 brief examples from the Sales department impersonating a member of that team. Use first person phrasing. Do not repeat examples. For each example, output the text in a paragraph block and separate each example with a new line. Do not add a prefix such as 'Example 1:' to the each answer. Simply output the answer.\n",
            "> \u001b[0;32m<ipython-input-17-01046bad0cf0>\u001b[0m(14)\u001b[0;36m<cell line: 14>\u001b[0;34m()\u001b[0m\n",
            "\u001b[0;32m     12 \u001b[0;31m\u001b[0mStakeholder_Type_Array\u001b[0m \u001b[0;34m=\u001b[0m \u001b[0mStakeholderRequests\u001b[0m\u001b[0;34m.\u001b[0m\u001b[0mstakeholder_request_types\u001b[0m\u001b[0;34m\u001b[0m\u001b[0;34m\u001b[0m\u001b[0m\n",
            "\u001b[0m\u001b[0;32m     13 \u001b[0;31m\u001b[0;34m\u001b[0m\u001b[0m\n",
            "\u001b[0m\u001b[0;32m---> 14 \u001b[0;31m\u001b[0;32mfor\u001b[0m \u001b[0mitem\u001b[0m \u001b[0;32min\u001b[0m \u001b[0mStakeholder_Type_Array\u001b[0m\u001b[0;34m:\u001b[0m\u001b[0;34m\u001b[0m\u001b[0;34m\u001b[0m\u001b[0m\n",
            "\u001b[0m\u001b[0;32m     15 \u001b[0;31m  \u001b[0mrequest_type\u001b[0m \u001b[0;34m=\u001b[0m \u001b[0mitem\u001b[0m\u001b[0;34m[\u001b[0m\u001b[0;34m'request_type'\u001b[0m\u001b[0;34m]\u001b[0m\u001b[0;34m\u001b[0m\u001b[0;34m\u001b[0m\u001b[0m\n",
            "\u001b[0m\u001b[0;32m     16 \u001b[0;31m  \u001b[0mrequest_definition\u001b[0m \u001b[0;34m=\u001b[0m \u001b[0mitem\u001b[0m\u001b[0;34m[\u001b[0m\u001b[0;34m'definition'\u001b[0m\u001b[0;34m]\u001b[0m\u001b[0;34m\u001b[0m\u001b[0;34m\u001b[0m\u001b[0m\n",
            "\u001b[0m\n",
            "ipdb> c\n"
          ]
        }
      ]
    },
    {
      "cell_type": "markdown",
      "source": [
        "## Create Simple ConversationBufferMemory to make sure the AI is not repeating examples.\n",
        "\n",
        "We want to store the outputs of each GPT response in the \"memory\" so and instruct the GPT bot to \"not make repeats\".\n",
        "\n",
        "Using principles from the Langchain Memory https://python.langchain.com/en/latest/modules/memory/getting_started.html\n",
        "\n",
        "For the next sections of code, I've basically copy/pasted this tutorial\n",
        "https://python.langchain.com/en/latest/modules/memory/examples/adding_memory.html"
      ],
      "metadata": {
        "id": "w2TrAZV0C25H"
      }
    },
    {
      "cell_type": "code",
      "source": [
        "#memory = ConversationBufferMemory(memory_key = \"chat_history\")\n",
        "\n",
        "# Manually Create Simple Chat Message History\n",
        "history = ChatMessageHistory()\n"
      ],
      "metadata": {
        "id": "XATtf9tLC8Kz"
      },
      "execution_count": null,
      "outputs": []
    },
    {
      "cell_type": "markdown",
      "source": [
        "Generate the Chain with the LLM and insert the variable for the department as an input"
      ],
      "metadata": {
        "id": "CdXEYCtv7UP7"
      }
    },
    {
      "cell_type": "code",
      "source": [
        "# Create the Chain\n",
        "chain = LLMChain(\n",
        "    llm=chat_llm,\n",
        "    prompt=chat_prompt,\n",
        "    verbose=True,\n",
        "    )\n",
        "\n",
        "\n",
        "# Generate an Array of Example Responses to later append to a .csv\n",
        "example_responses_array = []\n"
      ],
      "metadata": {
        "id": "vJ0CkIgb7YA1"
      },
      "execution_count": null,
      "outputs": []
    },
    {
      "cell_type": "markdown",
      "source": [
        "## Generate N examples for a specified Department\n",
        "\n",
        "\n"
      ],
      "metadata": {
        "id": "usaNNmnoOjfd"
      }
    },
    {
      "cell_type": "code",
      "source": [
        "# For now I am hard coding a specific department\n",
        "department = \"customer success\"\n",
        "\n",
        "\n",
        "for counter in range(5):\n",
        "  example_request = chain.predict(dept_name=department, chat_history=history.messages)\n",
        "  example_responses_array.append(example_request)\n",
        "\n",
        "for item in example_responses_array:\n",
        "  print(item)"
      ],
      "metadata": {
        "id": "jQEiZBHdOnKb"
      },
      "execution_count": null,
      "outputs": []
    },
    {
      "cell_type": "markdown",
      "source": [
        "## Section Just used for Debugging ConversationBufferMemory\n",
        "\n",
        "Manually run steps to see what are the outputs of the LLM model, what is added to memory and what is re-fed back into the model"
      ],
      "metadata": {
        "id": "_6m8J5FGxApA"
      }
    },
    {
      "cell_type": "code",
      "source": [
        "# Actually run the Chat Chain with the input\n",
        "#print(chain.run(\"Engineering\"))\n",
        "example_request = chain.predict(dept_name=\"professional services\")\n",
        "\n",
        "example_responses_array.append(example_request)"
      ],
      "metadata": {
        "id": "NT2ON0GKJ_eu",
        "colab": {
          "base_uri": "https://localhost:8080/"
        },
        "outputId": "b411abc9-3046-40de-f830-618abe2cb5ef"
      },
      "execution_count": null,
      "outputs": [
        {
          "output_type": "stream",
          "name": "stdout",
          "text": [
            "\n",
            "\n",
            "\u001b[1m> Entering new LLMChain chain...\u001b[0m\n",
            "Prompt after formatting:\n",
            "\u001b[32;1m\u001b[1;3mSystem: You work in a small software start-up as a product manager. As a product manager, you have many different types of stakeholders from different departments such as customer success, technical support, sales, marketing and engineering. They often request many different types of requests for you during the day that take time for you to respond. One such request is a ‘feature request’ which can be defined as  ‘Stakeholders (customers, sales, customer success teams) may request new features or enhancements to existing ones that will improve user experience, address customer pain points, or help close new deals.’\n",
            "Human: For professional services department, generate an example of a feature request impersonating a member of that team. Use first person phrasing. Do not repeat examples. \u001b[0m\n",
            "\n",
            "\u001b[1m> Finished chain.\u001b[0m\n"
          ]
        }
      ]
    },
    {
      "cell_type": "code",
      "source": [
        "print(example_request)\n"
      ],
      "metadata": {
        "colab": {
          "base_uri": "https://localhost:8080/"
        },
        "id": "93TF4MlsxcOL",
        "outputId": "a48c2057-ead3-4ff9-cd9f-9731487117a7"
      },
      "execution_count": null,
      "outputs": [
        {
          "output_type": "stream",
          "name": "stdout",
          "text": [
            "As a member of the professional services department, I would like to request a new feature that allows us to easily track the progress of our projects. It would be great if we could have a dashboard that shows us the status of each project, including the tasks that have been completed, the ones that are in progress, and the ones that are still pending. This would help us to better manage our workload and ensure that we are meeting our deadlines. Additionally, it would be helpful if we could assign tasks to specific team members and set deadlines for each task. This would help us to stay organized and ensure that everyone is on the same page. Thank you for considering my request.\n"
          ]
        }
      ]
    },
    {
      "cell_type": "code",
      "source": [
        "memory.load_memory_variables({})"
      ],
      "metadata": {
        "colab": {
          "base_uri": "https://localhost:8080/"
        },
        "id": "rucrCmjxxyZL",
        "outputId": "5022dab6-eaf6-4a49-9281-998d334c8ff2"
      },
      "execution_count": null,
      "outputs": [
        {
          "output_type": "execute_result",
          "data": {
            "text/plain": [
              "{'chat_history': 'Human: professional services\\nAI: As a member of the professional services department, I would like to request a new feature that allows us to easily track the progress of our projects. It would be great if we could have a dashboard that shows us the status of each project, including the tasks that have been completed, the ones that are in progress, and the ones that are still pending. This would help us to better manage our workload and ensure that we are meeting our deadlines. Additionally, it would be helpful if we could assign tasks to specific team members and set deadlines for each task. This would help us to stay organized and ensure that everyone is on the same page. Thank you for considering my request.'}"
            ]
          },
          "metadata": {},
          "execution_count": 22
        }
      ]
    },
    {
      "cell_type": "code",
      "source": [
        "example_request = chain.predict(dept_name=\"professional services\")\n"
      ],
      "metadata": {
        "id": "vSmYBp2PyGwI"
      },
      "execution_count": null,
      "outputs": []
    },
    {
      "cell_type": "code",
      "source": [
        "memory.load_memory_variables({})"
      ],
      "metadata": {
        "id": "a7Kmu9GoyPIp"
      },
      "execution_count": null,
      "outputs": []
    },
    {
      "cell_type": "code",
      "source": [
        "# Actually run the Chat Chain with the input\n",
        "#print(chain.run(\"Engineering\"))\n",
        "example_request = chain.predict(dept_name=\"professional services\")\n",
        "\n",
        "print(example_request)"
      ],
      "metadata": {
        "id": "k9Ct8F7pMlrd"
      },
      "execution_count": null,
      "outputs": []
    },
    {
      "cell_type": "code",
      "source": [
        "memory.load_memory_variables({})"
      ],
      "metadata": {
        "id": "v_HSamFyz7hU"
      },
      "execution_count": null,
      "outputs": []
    },
    {
      "cell_type": "code",
      "source": [
        "for item in example_responses_array:\n",
        "  print(item)"
      ],
      "metadata": {
        "id": "DP-5hJo_NcQf"
      },
      "execution_count": null,
      "outputs": []
    },
    {
      "cell_type": "markdown",
      "source": [
        "## Section for Debugging simple ChatMessage History"
      ],
      "metadata": {
        "id": "cvb5LlpV4GH-"
      }
    },
    {
      "cell_type": "code",
      "source": [
        "example_request = chain.run(dept_name=\"professional services\", chat_history=history.messages)\n",
        "print(example_request)\n"
      ],
      "metadata": {
        "colab": {
          "base_uri": "https://localhost:8080/"
        },
        "id": "h1fnvjBc4M6u",
        "outputId": "b8482fb9-b5d3-479f-fe1a-bf266a453de6"
      },
      "execution_count": null,
      "outputs": [
        {
          "output_type": "stream",
          "name": "stdout",
          "text": [
            "\n",
            "\n",
            "\u001b[1m> Entering new LLMChain chain...\u001b[0m\n",
            "Prompt after formatting:\n",
            "\u001b[32;1m\u001b[1;3mSystem: You work in a small software start-up as a product manager. As a product manager, you have many different types of stakeholders from different departments such as customer success, technical support, sales, marketing and engineering. They often request many different types of requests for you during the day that take time for you to respond. One such request is a ‘feature request’ which can be defined as  ‘Stakeholders (customers, sales, customer success teams) may request new features or enhancements to existing ones that will improve user experience, address customer pain points, or help close new deals.’\n",
            "Human:  Examples: [], For professional services department, generate an example of a feature request impersonating a member of that team. Use first person phrasing. Do not repeat examples.\u001b[0m\n",
            "\n",
            "\u001b[1m> Finished chain.\u001b[0m\n",
            "As a member of the professional services department, I would like to request a feature that allows us to easily track the progress of our projects and tasks within the software. It would be helpful if we could assign tasks to specific team members, set deadlines, and receive notifications when tasks are completed or overdue. This would help us stay organized and ensure that we are meeting our clients' expectations in a timely manner.\n"
          ]
        }
      ]
    },
    {
      "cell_type": "code",
      "source": [
        "history.add_ai_message(example_request)"
      ],
      "metadata": {
        "id": "rNFmH2NN4jjc"
      },
      "execution_count": null,
      "outputs": []
    },
    {
      "cell_type": "code",
      "source": [
        "history.messages"
      ],
      "metadata": {
        "colab": {
          "base_uri": "https://localhost:8080/"
        },
        "id": "O_h-pPVh4nCr",
        "outputId": "330b8b6b-f8b7-451c-b980-8fc3bc271fd7"
      },
      "execution_count": null,
      "outputs": [
        {
          "output_type": "execute_result",
          "data": {
            "text/plain": [
              "[AIMessage(content=\"As a member of the professional services department, I would like to request a feature that allows us to easily track the progress of our projects and tasks within the software. It would be helpful if we could assign tasks to specific team members, set deadlines, and receive notifications when tasks are completed or overdue. This would help us stay organized and ensure that we are meeting our clients' expectations in a timely manner.\", additional_kwargs={})]"
            ]
          },
          "metadata": {},
          "execution_count": 46
        }
      ]
    },
    {
      "cell_type": "code",
      "source": [
        "example_request = chain.run(dept_name=\"professional services\", chat_history=history.messages)\n"
      ],
      "metadata": {
        "colab": {
          "base_uri": "https://localhost:8080/"
        },
        "id": "NxwO8iHL4ua-",
        "outputId": "1ed67f93-8107-46f2-8408-c7ffe2ba15fb"
      },
      "execution_count": null,
      "outputs": [
        {
          "output_type": "stream",
          "name": "stdout",
          "text": [
            "\n",
            "\n",
            "\u001b[1m> Entering new LLMChain chain...\u001b[0m\n",
            "Prompt after formatting:\n",
            "\u001b[32;1m\u001b[1;3mSystem: You work in a small software start-up as a product manager. As a product manager, you have many different types of stakeholders from different departments such as customer success, technical support, sales, marketing and engineering. They often request many different types of requests for you during the day that take time for you to respond. One such request is a ‘feature request’ which can be defined as  ‘Stakeholders (customers, sales, customer success teams) may request new features or enhancements to existing ones that will improve user experience, address customer pain points, or help close new deals.’\n",
            "Human:  Examples: [AIMessage(content=\"As a member of the professional services department, I would like to request a feature that allows us to easily track the progress of our projects and tasks within the software. It would be helpful if we could assign tasks to specific team members, set deadlines, and receive notifications when tasks are completed or overdue. This would help us stay organized and ensure that we are meeting our clients' expectations in a timely manner.\", additional_kwargs={})], For professional services department, generate an example of a feature request impersonating a member of that team. Use first person phrasing. Do not repeat examples.\u001b[0m\n",
            "\n",
            "\u001b[1m> Finished chain.\u001b[0m\n"
          ]
        }
      ]
    },
    {
      "cell_type": "code",
      "source": [
        "print(example_request)"
      ],
      "metadata": {
        "colab": {
          "base_uri": "https://localhost:8080/"
        },
        "id": "GTQv5bgc40Ee",
        "outputId": "b760ca82-fda1-44b0-8ac5-8537e680ccbf"
      },
      "execution_count": null,
      "outputs": [
        {
          "output_type": "stream",
          "name": "stdout",
          "text": [
            "AIMessage(content=\"As a member of the professional services department, I would like to request a feature that allows us to easily generate reports on project progress and performance. It would be helpful if we could customize the reports to include specific metrics and data points, such as project timelines, budget utilization, and resource allocation. This would help us provide more detailed and accurate updates to our clients and stakeholders, and also help us identify areas for improvement in our project management processes.\", additional_kwargs={})\n"
          ]
        }
      ]
    },
    {
      "cell_type": "code",
      "source": [
        "print(StakeholderRequests.stakeholder_request_types[0])"
      ],
      "metadata": {
        "colab": {
          "base_uri": "https://localhost:8080/"
        },
        "id": "cLMPrbj3ZMBh",
        "outputId": "7bb620f0-7a0a-49bb-ed78-9c859e757dd4"
      },
      "execution_count": null,
      "outputs": [
        {
          "output_type": "stream",
          "name": "stdout",
          "text": [
            "{'type': 'feature', 'defintion': 'Stakeholders (customers, sales, customer success teams) may request new features or enhancements to existing ones that will improve user experience, address customer pain points, or help close new deals.'}\n"
          ]
        }
      ]
    },
    {
      "cell_type": "code",
      "source": [
        "StakeholderRequests.stakeholder_request_types[0][defintion]\n"
      ],
      "metadata": {
        "colab": {
          "base_uri": "https://localhost:8080/",
          "height": 166
        },
        "id": "xROkFf14oE0G",
        "outputId": "eb39a8ba-2d2d-4cf6-e8d6-b7de681fc501"
      },
      "execution_count": null,
      "outputs": [
        {
          "output_type": "error",
          "ename": "NameError",
          "evalue": "ignored",
          "traceback": [
            "\u001b[0;31m---------------------------------------------------------------------------\u001b[0m",
            "\u001b[0;31mNameError\u001b[0m                                 Traceback (most recent call last)",
            "\u001b[0;32m<ipython-input-141-82b5e095534c>\u001b[0m in \u001b[0;36m<cell line: 1>\u001b[0;34m()\u001b[0m\n\u001b[0;32m----> 1\u001b[0;31m \u001b[0mStakeholderRequests\u001b[0m\u001b[0;34m.\u001b[0m\u001b[0mstakeholder_request_types\u001b[0m\u001b[0;34m[\u001b[0m\u001b[0;36m0\u001b[0m\u001b[0;34m]\u001b[0m\u001b[0;34m[\u001b[0m\u001b[0mdefintion\u001b[0m\u001b[0;34m]\u001b[0m\u001b[0;34m\u001b[0m\u001b[0;34m\u001b[0m\u001b[0m\n\u001b[0m",
            "\u001b[0;31mNameError\u001b[0m: name 'defintion' is not defined"
          ]
        }
      ]
    }
  ]
}