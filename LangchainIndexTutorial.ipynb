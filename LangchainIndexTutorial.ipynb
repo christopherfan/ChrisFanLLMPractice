{
  "nbformat": 4,
  "nbformat_minor": 0,
  "metadata": {
    "colab": {
      "provenance": [],
      "authorship_tag": "ABX9TyNvNx8+F8Jt9eW8Py3qhhu3",
      "include_colab_link": true
    },
    "kernelspec": {
      "name": "python3",
      "display_name": "Python 3"
    },
    "language_info": {
      "name": "python"
    }
  },
  "cells": [
    {
      "cell_type": "markdown",
      "metadata": {
        "id": "view-in-github",
        "colab_type": "text"
      },
      "source": [
        "<a href=\"https://colab.research.google.com/github/christopherfan/ChrisFanLLMPractice/blob/main/LangchainIndexTutorial.ipynb\" target=\"_parent\"><img src=\"https://colab.research.google.com/assets/colab-badge.svg\" alt=\"Open In Colab\"/></a>"
      ]
    },
    {
      "cell_type": "markdown",
      "source": [
        "Running the tutorial from scratch\n",
        "https://python.langchain.com/en/latest/modules/indexes/getting_started.html"
      ],
      "metadata": {
        "id": "nNIfc6LNKYKP"
      }
    },
    {
      "cell_type": "markdown",
      "source": [
        "Install Requirements"
      ],
      "metadata": {
        "id": "cUxW3zukGBuD"
      }
    },
    {
      "cell_type": "code",
      "execution_count": null,
      "metadata": {
        "id": "i7lZWhngFu7-"
      },
      "outputs": [],
      "source": [
        "!pip install openai -q\n"
      ]
    },
    {
      "cell_type": "code",
      "source": [
        "!pip install langchain -q"
      ],
      "metadata": {
        "id": "-xw3FJMrGGxd"
      },
      "execution_count": null,
      "outputs": []
    },
    {
      "cell_type": "code",
      "source": [
        "!pip install chromadb\n"
      ],
      "metadata": {
        "id": "FxxLGukBGI0Y"
      },
      "execution_count": null,
      "outputs": []
    },
    {
      "cell_type": "code",
      "source": [
        "!pip install tiktoken"
      ],
      "metadata": {
        "colab": {
          "base_uri": "https://localhost:8080/"
        },
        "id": "IH5B3z25JWla",
        "outputId": "38cad68e-4647-469b-9dca-dcef02b17075"
      },
      "execution_count": null,
      "outputs": [
        {
          "output_type": "stream",
          "name": "stdout",
          "text": [
            "Looking in indexes: https://pypi.org/simple, https://us-python.pkg.dev/colab-wheels/public/simple/\n",
            "Requirement already satisfied: tiktoken in /usr/local/lib/python3.9/dist-packages (0.3.3)\n",
            "Requirement already satisfied: regex>=2022.1.18 in /usr/local/lib/python3.9/dist-packages (from tiktoken) (2022.10.31)\n",
            "Requirement already satisfied: requests>=2.26.0 in /usr/local/lib/python3.9/dist-packages (from tiktoken) (2.29.0)\n",
            "Requirement already satisfied: urllib3<1.27,>=1.21.1 in /usr/local/lib/python3.9/dist-packages (from requests>=2.26.0->tiktoken) (1.26.15)\n",
            "Requirement already satisfied: certifi>=2017.4.17 in /usr/local/lib/python3.9/dist-packages (from requests>=2.26.0->tiktoken) (2022.12.7)\n",
            "Requirement already satisfied: charset-normalizer<4,>=2 in /usr/local/lib/python3.9/dist-packages (from requests>=2.26.0->tiktoken) (2.0.12)\n",
            "Requirement already satisfied: idna<4,>=2.5 in /usr/local/lib/python3.9/dist-packages (from requests>=2.26.0->tiktoken) (3.4)\n"
          ]
        }
      ]
    },
    {
      "cell_type": "code",
      "source": [
        "!pip install unstructured"
      ],
      "metadata": {
        "id": "MgjxTscJMPo4"
      },
      "execution_count": null,
      "outputs": []
    },
    {
      "cell_type": "code",
      "source": [
        "!pip install pdfminer.six\n"
      ],
      "metadata": {
        "id": "V7pHnRwQM5t0"
      },
      "execution_count": null,
      "outputs": []
    },
    {
      "cell_type": "markdown",
      "source": [
        "Import Common Classes"
      ],
      "metadata": {
        "id": "i5K0sHbZHgOq"
      }
    },
    {
      "cell_type": "code",
      "source": [
        "import  openai, langchain,langchain.prompts, langchain.chat_models, os\n",
        "\n",
        "from langchain.chains import RetrievalQA\n",
        "from langchain.llms import OpenAI\n",
        "from getpass import getpass"
      ],
      "metadata": {
        "id": "clEt314AHiMI"
      },
      "execution_count": null,
      "outputs": []
    },
    {
      "cell_type": "markdown",
      "source": [
        "Manually Enter Open AI Key"
      ],
      "metadata": {
        "id": "igV6GpbuHlbb"
      }
    },
    {
      "cell_type": "code",
      "source": [
        "openai.api_key = getpass()"
      ],
      "metadata": {
        "colab": {
          "base_uri": "https://localhost:8080/"
        },
        "id": "9PUiO5JpHk9y",
        "outputId": "d0ecb388-b3d5-4c0a-c1d3-fe371d97815c"
      },
      "execution_count": null,
      "outputs": [
        {
          "name": "stdout",
          "output_type": "stream",
          "text": [
            "··········\n"
          ]
        }
      ]
    },
    {
      "cell_type": "code",
      "source": [
        "os.environ['OPENAI_API_KEY'] = openai.api_key"
      ],
      "metadata": {
        "id": "XVFGBi0EJBFR"
      },
      "execution_count": null,
      "outputs": []
    },
    {
      "cell_type": "markdown",
      "source": [
        "Manually Load a .csv File\n",
        "\n"
      ],
      "metadata": {
        "id": "jN0fVMzaIJbY"
      }
    },
    {
      "cell_type": "code",
      "source": [
        "from langchain.document_loaders import TextLoader\n",
        "loader = TextLoader('/content/StateOfUnion.txt', encoding='utf8')"
      ],
      "metadata": {
        "id": "RyDxPj1sIRJq"
      },
      "execution_count": null,
      "outputs": []
    },
    {
      "cell_type": "markdown",
      "source": [
        "Index Creation with VectorStore Index"
      ],
      "metadata": {
        "id": "YzWWcw8pIb0g"
      }
    },
    {
      "cell_type": "code",
      "source": [
        "from langchain.indexes import VectorstoreIndexCreator"
      ],
      "metadata": {
        "id": "7jEn8OetIf2K"
      },
      "execution_count": null,
      "outputs": []
    },
    {
      "cell_type": "code",
      "source": [
        "index = VectorstoreIndexCreator().from_loaders([loader])"
      ],
      "metadata": {
        "colab": {
          "base_uri": "https://localhost:8080/"
        },
        "id": "iV-27L2yIhy_",
        "outputId": "8e13b65d-af10-4fdb-897d-d80527cc1095"
      },
      "execution_count": null,
      "outputs": [
        {
          "output_type": "stream",
          "name": "stderr",
          "text": [
            "WARNING:chromadb:Using embedded DuckDB without persistence: data will be transient\n"
          ]
        }
      ]
    },
    {
      "cell_type": "markdown",
      "source": [
        "Test Code demonstrating LLM is querying against the Vector store of embeddings"
      ],
      "metadata": {
        "id": "x2WVFP24JjXi"
      }
    },
    {
      "cell_type": "code",
      "source": [
        "query = \"How many times did the president talk about the economy?\"\n",
        "#query = \"What did the president say about Ketanji Brown Jackson\"\n",
        "index.query_with_sources(query)\n"
      ],
      "metadata": {
        "colab": {
          "base_uri": "https://localhost:8080/"
        },
        "id": "P2QLr0pIJpf8",
        "outputId": "fceb8595-0f5a-4938-fcfc-53c5faadc90b"
      },
      "execution_count": null,
      "outputs": [
        {
          "output_type": "execute_result",
          "data": {
            "text/plain": [
              "{'question': 'How many times did the president talk about the economy?',\n",
              " 'answer': ' The president talked about the economy four times.\\n',\n",
              " 'sources': '/content/StateOfUnion.txt'}"
            ]
          },
          "metadata": {},
          "execution_count": 24
        }
      ]
    },
    {
      "cell_type": "markdown",
      "source": [
        "Figure out how to Load from a URL"
      ],
      "metadata": {
        "id": "H6GmV35XK4Q_"
      }
    },
    {
      "cell_type": "code",
      "source": [
        " import langchain.document_loaders\n",
        " from langchain.document_loaders import UnstructuredURLLoader\n",
        " from pdfminer.utils import open_filename"
      ],
      "metadata": {
        "id": "eo29zG9XLdIt"
      },
      "execution_count": null,
      "outputs": []
    },
    {
      "cell_type": "code",
      "source": [
        "urls = [\n",
        "    \"https://en.wikipedia.org/wiki/Social_determinants_of_health\"\n",
        "]"
      ],
      "metadata": {
        "id": "rHFiwqfVLt2O"
      },
      "execution_count": null,
      "outputs": []
    },
    {
      "cell_type": "code",
      "source": [
        "loader = UnstructuredURLLoader(urls=urls)"
      ],
      "metadata": {
        "id": "y2DPSuINMMUa"
      },
      "execution_count": null,
      "outputs": []
    },
    {
      "cell_type": "code",
      "source": [
        "data = loader.load()"
      ],
      "metadata": {
        "id": "iyMxXtYWMeiX"
      },
      "execution_count": null,
      "outputs": []
    },
    {
      "cell_type": "code",
      "source": [
        "data"
      ],
      "metadata": {
        "id": "PEzGF_6UOV18"
      },
      "execution_count": null,
      "outputs": []
    },
    {
      "cell_type": "markdown",
      "source": [
        "Dump in Chroma"
      ],
      "metadata": {
        "id": "Ox5lcwPLOnOv"
      }
    },
    {
      "cell_type": "code",
      "source": [
        "from langchain.indexes import VectorstoreIndexCreator"
      ],
      "metadata": {
        "id": "-olYg1veOosi"
      },
      "execution_count": null,
      "outputs": []
    },
    {
      "cell_type": "code",
      "source": [
        "index = VectorstoreIndexCreator().from_loaders([loader])"
      ],
      "metadata": {
        "colab": {
          "base_uri": "https://localhost:8080/"
        },
        "outputId": "d60da896-8e50-4ecc-85b9-72bce1848223",
        "id": "wTlLV78ROw0g"
      },
      "execution_count": null,
      "outputs": [
        {
          "output_type": "stream",
          "name": "stderr",
          "text": [
            "WARNING:chromadb:Using embedded DuckDB without persistence: data will be transient\n"
          ]
        }
      ]
    },
    {
      "cell_type": "markdown",
      "source": [
        "Sample Query on wiki page!!"
      ],
      "metadata": {
        "id": "SSixlRmxO1DY"
      }
    },
    {
      "cell_type": "code",
      "source": [
        "query = \"Why is stress an important factor for SDOH?\"\n",
        "index.query_with_sources(query)"
      ],
      "metadata": {
        "colab": {
          "base_uri": "https://localhost:8080/"
        },
        "id": "rIm3s_HaO0pJ",
        "outputId": "b8355c24-2fa7-4c68-fc66-3f7830a9cd94"
      },
      "execution_count": null,
      "outputs": [
        {
          "output_type": "execute_result",
          "data": {
            "text/plain": [
              "{'question': 'Why is stress an important factor for SDOH?',\n",
              " 'answer': ' Stress is an important factor for SDOH because it can have a direct effect on health status, such as slowing healing for many different acute and chronic conditions, and an indirect effect on health status, such as straining the psychological resources of the stressed individual and making them less likely to prioritize their health.\\n',\n",
              " 'sources': 'https://en.wikipedia.org/wiki/Social_determinants_of_health'}"
            ]
          },
          "metadata": {},
          "execution_count": 21
        }
      ]
    }
  ]
}